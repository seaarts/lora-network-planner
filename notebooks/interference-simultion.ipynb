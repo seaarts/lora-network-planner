{
 "cells": [
  {
   "cell_type": "markdown",
   "id": "2c78e862-ec3f-4351-bd41-9fef79492d14",
   "metadata": {},
   "source": [
    "# Simulating Wireless Interference with loraplan\n",
    "\n",
    "Sander Aarts, 2022.\n",
    "\n",
    "\n",
    "# Introduction\n",
    "LoRa networks suffer from _wireless interference_. If many concurrent transmissions arrive at a receiver, the receier is unlikely to successfully process all arrivals. This leads to _packets loss_, and an overall lower throughput of the network. As network planners it is our job to ensure that packet loss due to interference is within acceptable levels. To do so, it is useful to estimate the packet error rate for various network designs. Testing large networks with thousands of devices in the real world is difficult, costly, and distruptive. Instead, we turn to _simulation_, where running experiments is easy, cheap, and does not disrupt wireless traffic in the real worls. By making our simulations realistic (where it matters) we can inform real-world network design based on computer simulations.\n",
    "\n",
    "On a high level, interference simulations take three main components:\n",
    " 1. A _network model_ that describes how wireless traffic is generated\n",
    " 2. An _interference model_ that estimates which transmissions are received, and which are lost\n",
    " 3. Analysis of output from generating traffic and applying the interference mdoel\n",
    "\n",
    "In this notebook we discuss each point in turn, and show how the `loraplan.interefence`-module is used.\n",
    "\n",
    "## Contents\n",
    "This notebook showcases the `loraplan.interference` module from the point of view of interference simulations. The notebook includes the following.\n",
    "- Setting up a simulate LoRa network, and a LoRa `TrafficGenerator`\n",
    "    - Choosing the type of network to simulate\n",
    "    - Choosing distributions from `loraplan.distributions`.\n",
    "- Generating and understadning LoRa `Traffic`\n",
    "- Interference models\n",
    "- Running simulations\n",
    "- Analyzing simulated output"
   ]
  },
  {
   "cell_type": "markdown",
   "id": "557e86e1-eb06-4983-90cf-a51555a6dd8f",
   "metadata": {},
   "source": [
    "# Loading packages and modules"
   ]
  },
  {
   "cell_type": "code",
   "execution_count": 43,
   "id": "c18e6094-6c51-40e2-9d18-5719e48d1309",
   "metadata": {},
   "outputs": [],
   "source": [
    "import os\n",
    "import sys\n",
    "import numpy as np\n",
    "import matplotlib.pyplot as plt\n",
    "from abc import ABC, abstractmethod"
   ]
  },
  {
   "cell_type": "code",
   "execution_count": 5,
   "id": "edeab975-41f4-4fa1-990e-a7f24b1ac7a1",
   "metadata": {},
   "outputs": [
    {
     "name": "stdout",
     "output_type": "stream",
     "text": [
      "The autoreload extension is already loaded. To reload it, use:\n",
      "  %reload_ext autoreload\n"
     ]
    }
   ],
   "source": [
    "# set path to where modules are\n",
    "sys.path.insert(0, os.path.abspath('../src/loraplan/'))\n",
    "\n",
    "%load_ext autoreload\n",
    "%autoreload 2"
   ]
  },
  {
   "cell_type": "code",
   "execution_count": 133,
   "id": "038e6aab-a64e-42bd-b93b-7c5703deee1e",
   "metadata": {},
   "outputs": [],
   "source": [
    "# load modules\n",
    "import interference as lpf\n",
    "import distributions as lpd"
   ]
  },
  {
   "cell_type": "markdown",
   "id": "4d9c8f44-7159-43f8-9076-9774750e07cd",
   "metadata": {},
   "source": [
    "# Generating wireless traffic with a simulated network"
   ]
  },
  {
   "cell_type": "markdown",
   "id": "c8807b70-6d5e-4276-8640-dd7ae9e897a6",
   "metadata": {},
   "source": [
    "## An abstract approach: A distirbution over traffic\n",
    "\n",
    "Ultimately, a network model's main purpose is to generate wireless `Traffic`. Here, we take a more abstract route and directly define a probability distribution over `Traffic`-objects. We do so by specifying distributions over critical wireless parameters:\n",
    "1. `ArrivalProcess`: A distribution (process) over packet arrival times.\n",
    "2. A distribution over channels\n",
    "3. A distribution over spreading factors\n",
    "4. A distribution over airtimes\n",
    "5. A distribution over (received) power"
   ]
  },
  {
   "cell_type": "markdown",
   "id": "c859660f-7a28-476a-a0f1-f7a3e2a3224f",
   "metadata": {},
   "source": [
    "### 1. An arrival process\n",
    "\n",
    "Let's specify how packets arrive by instantiating an `ArrivalProcess`.\n",
    "- First specify a `TimeWindow` with a `buffer`\n",
    "- Next equip the`TimeWindow` with an `ArrivalProcess`"
   ]
  },
  {
   "cell_type": "markdown",
   "id": "0899755c-a408-4a61-bcfd-6c2ebe9a4297",
   "metadata": {},
   "source": [
    "#### Specify a timeWindow"
   ]
  },
  {
   "cell_type": "code",
   "execution_count": 134,
   "id": "713c8a48-0859-46f6-84d0-ba2cf8a0463e",
   "metadata": {},
   "outputs": [
    {
     "name": "stdout",
     "output_type": "stream",
     "text": [
      "TimeWindow(0, 10, buffer=5)\n",
      "\n",
      " \tThe window has window.length = 20 because this includes buffer window.buff = 5.\n"
     ]
    }
   ],
   "source": [
    "# make a time window [0, 10] with a buffer of ±5 seconds.\n",
    "window = lpd.TimeWindow(0, 10, buffer=5)\n",
    "\n",
    "print(window)\n",
    "print(f\"\\n \\tThe window has {window.length = } because this includes buffer {window.buff = }.\")"
   ]
  },
  {
   "cell_type": "markdown",
   "id": "ceccbb8f-bdd6-4456-bfbd-3ead5e3eb74d",
   "metadata": {},
   "source": [
    "#### Specify an ArrivalProcess"
   ]
  },
  {
   "cell_type": "markdown",
   "id": "83b45485-ba5f-4116-b869-c676424d80a7",
   "metadata": {},
   "source": [
    "With our `TimeWindow` we can proceeed by defining an `ArrivalProcess`.\n",
    "\n",
    "Let try a `PoissonArrivalProcess` by specifying an arrival rate (packets / second)."
   ]
  },
  {
   "cell_type": "code",
   "execution_count": 135,
   "id": "e98b58ab-9579-430c-9666-7839022ccd0c",
   "metadata": {},
   "outputs": [
    {
     "name": "stdout",
     "output_type": "stream",
     "text": [
      "HomogeneousPoissonArrivals(TimeWindow(0, 10, buffer=5), rate=1)\n"
     ]
    }
   ],
   "source": [
    "# make a Poisson arrival proces\n",
    "arrivals = lpd.PoissonArrivals(timeWindow=window, rate = 1)\n",
    "\n",
    "print(arrivals)"
   ]
  },
  {
   "cell_type": "markdown",
   "id": "e94a71db-6f46-4152-9b60-b3b5dfbd21c9",
   "metadata": {},
   "source": [
    "#### Sampling arrival times\n",
    "An `ArrivalProcess` lets us sample arrivals - both their number and time over the `TimeWindow` using `sample()`.\n",
    "\n",
    "We can visualize the arrivals. Try sampling a few times - note that the number of arrivals as well as the arrival times vary"
   ]
  },
  {
   "cell_type": "code",
   "execution_count": 136,
   "id": "752dd95a-eef5-4971-9d26-bda470da8d27",
   "metadata": {},
   "outputs": [
    {
     "data": {
      "image/png": "[encoded data removed]",
      "text/plain": [
       "<Figure size 576x144 with 1 Axes>"
      ]
     },
     "metadata": {
      "needs_background": "light"
     },
     "output_type": "display_data"
    }
   ],
   "source": [
    "# sample arrivals\n",
    "arr = arrivals.sample()\n",
    "\n",
    "nObs = arr[0].shape[0]\n",
    "\n",
    "# plot arrivals\n",
    "fig, ax = plt.subplots(figsize=(8, 2))\n",
    "plt.title(f\"Sampled {nObs} arrivals\")\n",
    "ax.scatter(arr[0], np.zeros(arr[0].shape[0]))\n",
    "ax.set_ylim([-1,1])\n",
    "ax.set_ylim([window.tMin - window.buff, window.tMax + window.buff])\n",
    "ax.set_xlabel(\"time\")\n",
    "ax.set_yticklabels([])\n",
    "ax.set_yticks([])\n",
    "plt.axvline(x=window.tMin, c='r')\n",
    "plt.axvline(x=window.tMax, c='r')\n",
    "plt.show()"
   ]
  },
  {
   "cell_type": "markdown",
   "id": "42ce594f-b83f-432c-8652-4ba3a2076a3c",
   "metadata": {},
   "source": [
    "### 2. Distributions over wireless parameters\n",
    "\n",
    "Next, we simply specify a distribution over the essential LoRaWAN parameters. To help us keep track of which parameters to specify distributions over, we can refer to the `lpf.LoRaParameters` object.\n",
    "\n",
    "We will also make use of these parameters when computing airtimes."
   ]
  },
  {
   "cell_type": "code",
   "execution_count": 137,
   "id": "02065741-a495-43d6-b7b9-261e38c179f3",
   "metadata": {},
   "outputs": [
    {
     "name": "stdout",
     "output_type": "stream",
     "text": [
      "A LoRa Parameters object with params:\n",
      "\t nChannels: 4\n",
      "\t freq: 915\n",
      "\t bw: 125\n",
      "\t sf: [7, 8, 9, 10]\n",
      "\t overhead: 13\n",
      "\t maxPow: 30\n",
      "\t codingRate: 4/5\n",
      "\t dwellTime: 400\n",
      "\t dutyCycle: None\n"
     ]
    }
   ],
   "source": [
    "# specify a LoRaWAN-parameters object\n",
    "wan = lpf.LoRaParameters(nChannels=4)\n",
    "\n",
    "print(wan)"
   ]
  },
  {
   "cell_type": "code",
   "execution_count": null,
   "id": "449bee86-74e2-4d88-90a0-b46e37fc35d2",
   "metadata": {},
   "outputs": [],
   "source": []
  },
  {
   "cell_type": "code",
   "execution_count": null,
   "id": "f0bf6547-6777-4f3a-ab9a-bfecbbbfcc6b",
   "metadata": {},
   "outputs": [],
   "source": []
  },
  {
   "cell_type": "code",
   "execution_count": 138,
   "id": "3b76c9ee-8eb5-4c20-a1ed-0a845547c203",
   "metadata": {},
   "outputs": [
    {
     "name": "stdout",
     "output_type": "stream",
     "text": [
      "DiscreteDistribution({'a': 4, 'p': None, 'replace': True, 'seed': None})\n"
     ]
    }
   ],
   "source": [
    "# specify a sperading factor distirbution\n",
    "channelDist = lpd.Choice(wan.nChannels)  # unifom when no parameters specified\n",
    "print(channelDist)"
   ]
  },
  {
   "cell_type": "code",
   "execution_count": 139,
   "id": "7cfb509e-1dd8-47e7-a390-08c40fa3671e",
   "metadata": {},
   "outputs": [
    {
     "name": "stdout",
     "output_type": "stream",
     "text": [
      "DiscreteDistribution({'a': [7, 8, 9, 10], 'p': [0.1, 0.2, 0.3, 0.4], 'replace': True, 'seed': None})\n"
     ]
    }
   ],
   "source": [
    "# specify a sperading factor distirbution\n",
    "spreadingDist = lpd.Choice(wan.sf, p=[0.1, 0.2, 0.3, 0.4])\n",
    "print(spreadingDist)"
   ]
  },
  {
   "cell_type": "code",
   "execution_count": 140,
   "id": "0a9737c8-6594-4906-8bd4-c7acdd8c79cc",
   "metadata": {},
   "outputs": [
    {
     "name": "stdout",
     "output_type": "stream",
     "text": [
      "NormalDistribution({'loc': -80, 'scale': 10, 'seed': None})\n"
     ]
    }
   ],
   "source": [
    "# a power distribution\n",
    "powerDist = lpd.Normal(loc=-80, scale=10)\n",
    "print(powerDist)"
   ]
  },
  {
   "cell_type": "code",
   "execution_count": null,
   "id": "ee97d1fc-fdb9-4c1e-8538-39dd4cb1c3d0",
   "metadata": {},
   "outputs": [],
   "source": []
  },
  {
   "cell_type": "code",
   "execution_count": 141,
   "id": "17bfded2-aa68-4db9-879b-769f5fd4fceb",
   "metadata": {},
   "outputs": [],
   "source": [
    "class TrafficGenerator(ABC):\n",
    "    \"\"\"\n",
    "    ABC for traffic-generating objects.\n",
    "    \n",
    "    Typical ``TrafficGenerators`` are  compositions. Often, a generator\n",
    "    takes an ``ArrivalProcess`` and a ``ParameterDistribution``.\n",
    "    ``Traffic``-objects are generated by sampling arrivals and equipping\n",
    "    these with sampled parameters. Dependence between arrivals and\n",
    "    parameters should also be supported.\n",
    "    \n",
    "    Notes\n",
    "    -----\n",
    "    ``Traffic``-objects are market point processes. As such, each sample\n",
    "    has a variable number of observations. This makes it difficult to\n",
    "    store samples as arrays. Instead, a sample of ``size = k`` is a list\n",
    "    of length k, in which each entry is an array of shape ``(nObs[k], d)``\n",
    "    where ``d`` is the number of parameters. Due to this, much of the code\n",
    "    includes list comprehensions.\n",
    "    \"\"\"\n",
    "    \n",
    "    @abstractmethod\n",
    "    def sample(self):\n",
    "        pass\n",
    "    \n",
    "    def __call__(self, seed=None, **kwargs):\n",
    "        \"\"\"\n",
    "        Get a sample.\n",
    "        \"\"\"\n",
    "        return self.sample(seed=None, **kwargs)"
   ]
  },
  {
   "cell_type": "code",
   "execution_count": 144,
   "id": "0a5c9ce0-7116-4468-942c-27ea87ab1552",
   "metadata": {},
   "outputs": [],
   "source": [
    "class IndependentLoRaGenerator(TrafficGenerator):\n",
    "    \"\"\"\n",
    "    Composition of a TimeWindow, LoRaParameters, and (parameter) Distributions.\n",
    "\n",
    "    The ``IndependentLoRaGenerator`` is a ``TrafficGenerator``-object for when\n",
    "    parameters are distributed independently of each other and of the arrivals.\n",
    "    This object's main function is to collect various model components in one\n",
    "    place. In particular, an ``ArrivalProcess``, ``LoRaParameters`` and\n",
    "    ``Distribution``-objects over the various wireless parameters.\n",
    "    \n",
    "    \n",
    "    Attributes\n",
    "    ----------\n",
    "    arrivalProcess : ArrivalProcess\n",
    "        An arrival process for generating nr. of packets and arrival times.\n",
    "        \n",
    "    loraParams : LoRaParameters\n",
    "        A LoRaParameters-object from which essential parameters are pulled.\n",
    "    \n",
    "    channelDist : Distribution\n",
    "        A distribution over LoRa channels\n",
    "    \n",
    "    spreadingDist : Distribution\n",
    "        A distirbution over spreading factors\n",
    "    \n",
    "    payloadDist : Distribution\n",
    "        A distribution over payload length in bytes.\n",
    "        \n",
    "    powerDist : Distribution\n",
    "        A distribution over received transmission power.\n",
    "        If transmissions are equipped with link parameters\n",
    "        one can change this for `transmittedPower - pathLoss`.\n",
    "    \n",
    "    \"\"\"\n",
    "    \n",
    "    def __init__(self, arrivalProcess, loraParams, channelDist,\n",
    "                 spreadingDist, payloadDist, powerDist):\n",
    "        \"\"\"\n",
    "        Initialize LoRa traffic generator with independent parameter distributions.\n",
    "        \"\"\"\n",
    "        \n",
    "        self.arrivals = arrivalProcess\n",
    "        self.params = loraParams\n",
    "        self.channelDist = channelDist\n",
    "        self.spreadingDist = spreadingDist\n",
    "        self.payloadDist = payloadDist\n",
    "        self.powerDist = powerDist\n",
    "        \n",
    "    \n",
    "    def sample(size=None, seed=None):\n",
    "        \"\"\"\n",
    "        Sample LoRa wireless traffic.\n",
    "        \n",
    "        The sample first queries the ArrivalProces for the number of packets and\n",
    "        their individual arrival times. Given the number of packets nObs, the\n",
    "        remaining distributions are sampled to compile a matrix of parameter data.\n",
    "        The airtime is computed last using ``interference.airtime()`` and stored\n",
    "        network-level parameters ``self.parameters`` as well as packet-level parameters\n",
    "        such as the spreading factor ``SF`` and ``payload``.\n",
    "        \n",
    "        See Also\n",
    "        --------\n",
    "        ``lp.interference.airtime``\n",
    "        \n",
    "        \"\"\"\n",
    "        N = size\n",
    "        \n",
    "        arrivals = self.arrivals.sample(size=N)\n",
    "        \n",
    "        nObs = [arr.shape[0] for arr in arrivals]\n",
    "        \n",
    "        # sample prameters\n",
    "        channels = [self.channelDist(size=n) for n in nObs]\n",
    "        spreadings = [self.spreadingDist(size=n) for n in nObs]\n",
    "        powers = [self.powerDist(size=n) for n in nObs]\n",
    "        payloads = [self.paylodDist(size=n) for n in nObs]\n",
    "        \n",
    "        # compute airtimes\n",
    "        cr = self.parameters.codingRate\n",
    "        bw = self.parameters.bw\n",
    "        oh = self.parameters.overhead\n",
    "        \n",
    "        airtimes = [airtime(payloads[i]+oh, spreadings[i], bw=bw, codingRate=cr) for i in range(N)]\n",
    "        \n",
    "        # make traffic-objects\n",
    "        traffics = [Traffic(nObs[i], arrivals[i], airtimes[i],\n",
    "                            channels[i], spreadings[i], powers[i]) for i in range(N)]\n",
    "        \n",
    "        return traffics"
   ]
  },
  {
   "cell_type": "markdown",
   "id": "8fbed78f-4d79-4e34-bc3b-19d1105cf5e2",
   "metadata": {},
   "source": [
    "# Modeling wireless interference"
   ]
  },
  {
   "cell_type": "markdown",
   "id": "9b2de6ff-baa5-49ca-9a7a-73e7c6d6c917",
   "metadata": {},
   "source": []
  },
  {
   "cell_type": "code",
   "execution_count": null,
   "id": "2c6bb0f0-5414-4684-940d-80bb82d0f630",
   "metadata": {},
   "outputs": [],
   "source": []
  },
  {
   "cell_type": "markdown",
   "id": "e35dd040-8b44-4219-a68b-b947cf4dc65b",
   "metadata": {},
   "source": [
    "# Simulation experiments and output analysis"
   ]
  },
  {
   "cell_type": "code",
   "execution_count": null,
   "id": "b1202593-d75e-4760-8cd2-1f09521469df",
   "metadata": {},
   "outputs": [],
   "source": []
  }
 ],
 "metadata": {
  "kernelspec": {
   "display_name": "Python (lora)",
   "language": "python",
   "name": "lora"
  },
  "language_info": {
   "codemirror_mode": {
    "name": "ipython",
    "version": 3
   },
   "file_extension": ".py",
   "mimetype": "text/x-python",
   "name": "python",
   "nbconvert_exporter": "python",
   "pygments_lexer": "ipython3",
   "version": "3.10.4"
  }
 },
 "nbformat": 4,
 "nbformat_minor": 5
}
