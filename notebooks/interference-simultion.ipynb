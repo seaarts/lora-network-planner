{
 "cells": [
  {
   "cell_type": "markdown",
   "id": "2c78e862-ec3f-4351-bd41-9fef79492d14",
   "metadata": {},
   "source": [
    "# Simulating Wireless Interference\n",
    "\n",
    "Sander Aarts, 2022.\n",
    "\n",
    "\n",
    "# Introduction\n",
    "When the number of devices is large, LoRa networks may suffer from _wireless interference_. This interference stems from concurrent packets using the same channels physically disturbing each others' radio signals. This may lead to _packets loss_, and an consequently a  lower throughput of the network. As network planners it is our job to ensure that packet loss due to interference is within acceptable levels. To do so, it is useful to estimate the packet error rate for various network designs. However, testing large networks with thousands of devices in the real world is difficult, costly, and distruptive. Instead, we turn to _simulation_, where running experiments is easy, cheap, and does not disrupt wireless applications of real users. Despite being virtual, these simulations can we can nevertheless inform real-world network design if made realistic where it matters. This notebook is a guide towards this end.\n",
    " \n",
    "On a high level, interference simulations take three main components:\n",
    " 1. A _network model_ that describes how wireless traffic is generated\n",
    " 2. An _interference model_ that takes traffic arriving at a recevier and determines which transmissions are received, and which are lost.\n",
    " 3. Analysis of output from this model.\n",
    "\n",
    "In this notebook we discuss each point in turn, and show how the `loraplan.interefence`-module is used to this end.\n",
    "\n",
    "## Contents\n",
    "This notebook showcases the `loraplan.interference` module from the point of view of interference simulations. The notebook includes the following.\n",
    "- Setting up a simulate LoRa network, and a LoRa `TrafficGenerator`\n",
    "    - Choosing the type of network to simulate\n",
    "    - Choosing distributions from `loraplan.distributions`.\n",
    "- Generating and understadning LoRa `Traffic`\n",
    "- Interference models\n",
    "- Running simulations\n",
    "- Analyzing simulated output"
   ]
  },
  {
   "cell_type": "code",
   "execution_count": 14,
   "id": "c18e6094-6c51-40e2-9d18-5719e48d1309",
   "metadata": {},
   "outputs": [],
   "source": [
    "import os\n",
    "import sys\n",
    "import numpy as np\n",
    "import matplotlib.pyplot as plt\n",
    "from abc import ABC, abstractmethod\n",
    "import collections.abc\n",
    "\n",
    "from matplotlib import collections  as mc\n",
    "\n",
    "from scipy.spatial.distance import pdist, squareform"
   ]
  },
  {
   "cell_type": "code",
   "execution_count": 15,
   "id": "edeab975-41f4-4fa1-990e-a7f24b1ac7a1",
   "metadata": {},
   "outputs": [
    {
     "name": "stdout",
     "output_type": "stream",
     "text": [
      "The autoreload extension is already loaded. To reload it, use:\n",
      "  %reload_ext autoreload\n"
     ]
    }
   ],
   "source": [
    "# set path to where modules are\n",
    "sys.path.insert(0, os.path.abspath('../src/'))\n",
    "\n",
    "%load_ext autoreload\n",
    "%autoreload 2"
   ]
  },
  {
   "cell_type": "code",
   "execution_count": 16,
   "id": "038e6aab-a64e-42bd-b93b-7c5703deee1e",
   "metadata": {},
   "outputs": [],
   "source": [
    "# load modules\n",
    "import loraplan.interference as lpf\n",
    "from loraplan.probability import point_processes as lpp\n",
    "from loraplan.probability import distributions as lpd\n",
    "from loraplan.probability import thinning_determinantal as thd"
   ]
  },
  {
   "cell_type": "markdown",
   "id": "4d9c8f44-7159-43f8-9076-9774750e07cd",
   "metadata": {},
   "source": [
    "# Generating wireless traffic with a simulated network"
   ]
  },
  {
   "cell_type": "markdown",
   "id": "c1c14084",
   "metadata": {},
   "source": [
    "Let's begin by declaring a ``LoRaParameters`` instance. This is a static object we use to keep track of various network-level parameters. "
   ]
  },
  {
   "cell_type": "code",
   "execution_count": 17,
   "id": "39d3be9c-f69a-4a60-bd9e-246e06d4f2a8",
   "metadata": {},
   "outputs": [],
   "source": [
    "# store network parameters as wan\n",
    "mylora = lpf.LoRaParameters(nChannels=1)"
   ]
  },
  {
   "cell_type": "markdown",
   "id": "0f058a05",
   "metadata": {},
   "source": [
    "Our ``LoRaParameters``-object ``mylora`` stores network settings. Printing ``mylora`` shows what these are."
   ]
  },
  {
   "cell_type": "code",
   "execution_count": 18,
   "id": "5bc47f8f",
   "metadata": {},
   "outputs": [
    {
     "name": "stdout",
     "output_type": "stream",
     "text": [
      "LoraParameters(\n",
      "\t nChannels: 1\n",
      "\t freq: 915\n",
      "\t bw: 125\n",
      "\t sf: [7, 8, 9, 10]\n",
      "\t overhead: 13\n",
      "\t maxPow: 30\n",
      "\t codingRate: 4/5\n",
      "\t dwellTime: 0.4\n",
      "\t dutyCycle: None)\n"
     ]
    }
   ],
   "source": [
    "print(mylora)"
   ]
  },
  {
   "cell_type": "markdown",
   "id": "c19c4d1b",
   "metadata": {},
   "source": [
    "Next, we define a ``TrafficGenerator`` based on ``mylora`` to be able to generate simulated wireless traffic.\n",
    "\n",
    "There are many different ``TrafficGenerators``, below we use the simple ``IndependentLoraGenerator``. This generator is a collection of probability distributions over the wireless parameters defined in  the ``LoRaParameters``-object, in our case ``mylora``."
   ]
  },
  {
   "cell_type": "code",
   "execution_count": 19,
   "id": "8a8d083b-6267-414e-a354-3aebaf30347f",
   "metadata": {},
   "outputs": [
    {
     "name": "stdout",
     "output_type": "stream",
     "text": [
      "IndependentLoRaGenerator(\n",
      "\tarrivals: HomogeneousPoissonArrivals(TimeWindow(0, 0.5, buffer=0.5), rate=7.5)\n",
      "\tparams: LoraParameters(\n",
      "\t nChannels: 1\n",
      "\t freq: 915\n",
      "\t bw: 125\n",
      "\t sf: [7, 8, 9, 10]\n",
      "\t overhead: 13\n",
      "\t maxPow: 30\n",
      "\t codingRate: 4/5\n",
      "\t dwellTime: 0.4\n",
      "\t dutyCycle: None)\n",
      "\tchannelDist: DiscreteDistribution({'a': 1, 'p': None, 'replace': True, 'seed': None})\n",
      "\tspreadingDist: DiscreteDistribution({'a': [7, 8, 9, 10], 'p': None, 'replace': True, 'seed': None})\n",
      "\tpayloadDist: DiscreteDistribution({'a': 11, 'p': None, 'replace': True, 'seed': None})\n",
      "\tpowerDist: NormalDistribution({'loc': -80, 'scale': 10, 'seed': None}))\n"
     ]
    }
   ],
   "source": [
    "# make a traffic generator\n",
    "loraDist = lpf.IndependentLoRaGenerator.from_parameters(mylora, tMin=0, tMax=0.5, buffer=0.5, rate=7.5)\n",
    "\n",
    "print(loraDist) # inspect its contents"
   ]
  },
  {
   "cell_type": "code",
   "execution_count": 20,
   "id": "89e68704-db1f-45c3-834c-fd8ec4e62a1d",
   "metadata": {},
   "outputs": [
    {
     "data": {
      "image/png": "[encoded data removed]",
      "text/plain": [
       "<Figure size 640x480 with 1 Axes>"
      ]
     },
     "metadata": {},
     "output_type": "display_data"
    }
   ],
   "source": [
    "# sample and plot\n",
    "traffic = loraDist.sample()\n",
    "\n",
    "traffic.plot(text=True);"
   ]
  },
  {
   "cell_type": "markdown",
   "id": "af5ff6af-1425-4a2e-8d63-f1e4fd056cfa",
   "metadata": {},
   "source": [
    "# Modeling wireless interference"
   ]
  },
  {
   "cell_type": "markdown",
   "id": "2425571f-fbfa-46ab-bc46-96d3bd118b2a",
   "metadata": {},
   "source": [
    "## ALOHA-like thinning"
   ]
  },
  {
   "cell_type": "code",
   "execution_count": 21,
   "id": "57133f81-16ec-44e3-a6a2-2dbdfb03657d",
   "metadata": {},
   "outputs": [
    {
     "data": {
      "image/png": "[encoded data removed]",
      "text/plain": [
       "<Figure size 640x480 with 1 Axes>"
      ]
     },
     "metadata": {},
     "output_type": "display_data"
    }
   ],
   "source": [
    "# get labels under ALOHA thinning and plot\n",
    "labelsALOHA = traffic.thinALOHA()\n",
    "\n",
    "traffic.plot(text=True, labels=labelsALOHA);"
   ]
  },
  {
   "cell_type": "markdown",
   "id": "d9d684cb-3363-4205-a117-c828c8bacd7a",
   "metadata": {},
   "source": [
    "# Determinantal Thinning\n",
    "\n",
    "We can also define a _determinantal thinning model_ and pass it to ``thinDeterminantal()``."
   ]
  },
  {
   "cell_type": "code",
   "execution_count": 22,
   "id": "be5a9606-17f6-46c2-8cd7-2bbfbfe64970",
   "metadata": {},
   "outputs": [],
   "source": [
    "# declare quality, similarity, and ell-ensemble\n",
    "qual = thd.ExponentialQuality(variables=[\"constant\" , \"airtime\", \"power\"])\n",
    "\n",
    "simi = thd.RBF(variables = ['start', 'sf', 'channel'])\n",
    "\n",
    "ensemble = thd.EllEnsemble(qual, simi)"
   ]
  },
  {
   "cell_type": "code",
   "execution_count": 23,
   "id": "362bac78",
   "metadata": {},
   "outputs": [],
   "source": [
    "# declare parameters for DPP\n",
    "parameters = {}\n",
    "parameters['quality'] = dict(zip(['constant', 'airtime', 'power'], [80, 1, 0.7]))\n",
    "parameters['similarity'] = dict(zip(['start', 'channel', 'sf'], [2, -2, -2]))"
   ]
  },
  {
   "cell_type": "code",
   "execution_count": 24,
   "id": "7c7218ac",
   "metadata": {},
   "outputs": [
    {
     "data": {
      "image/png": "[encoded data removed]",
      "text/plain": [
       "<Figure size 640x480 with 1 Axes>"
      ]
     },
     "metadata": {},
     "output_type": "display_data"
    }
   ],
   "source": [
    "labelsDet = traffic.thinDeterminantal(ensemble, parameters)\n",
    "\n",
    "traffic.plot(text=True, labels=labelsDet);"
   ]
  },
  {
   "cell_type": "markdown",
   "id": "4b1c3cd0",
   "metadata": {},
   "source": [
    "# A simulation experiment\n",
    "\n",
    "We are now ready to (artificially) blot out the sky with LoRaWAN transmissions and observe the consequences of interference."
   ]
  },
  {
   "cell_type": "markdown",
   "id": "fc5c92c0",
   "metadata": {},
   "source": []
  },
  {
   "cell_type": "code",
   "execution_count": 25,
   "id": "76eca43d",
   "metadata": {},
   "outputs": [
    {
     "data": {
      "text/plain": [
       "loraplan.interference.IndependentLoRaGenerator"
      ]
     },
     "execution_count": 25,
     "metadata": {},
     "output_type": "execute_result"
    }
   ],
   "source": [
    "type(loraDist)"
   ]
  },
  {
   "cell_type": "code",
   "execution_count": 28,
   "id": "85812325",
   "metadata": {},
   "outputs": [],
   "source": [
    "traffic = loraDist.sample(500, rate=3.0)\n",
    "\n"
   ]
  },
  {
   "cell_type": "code",
   "execution_count": 29,
   "id": "cee9f423",
   "metadata": {},
   "outputs": [
    {
     "data": {
      "text/plain": [
       "4.622"
      ]
     },
     "execution_count": 29,
     "metadata": {},
     "output_type": "execute_result"
    }
   ],
   "source": [
    "sum([t.nObs for t in traffic]) / 500"
   ]
  },
  {
   "cell_type": "code",
   "execution_count": null,
   "id": "3c04449c",
   "metadata": {},
   "outputs": [],
   "source": []
  },
  {
   "cell_type": "code",
   "execution_count": null,
   "id": "3d153c3d",
   "metadata": {},
   "outputs": [],
   "source": []
  },
  {
   "cell_type": "markdown",
   "id": "69c69df6-323b-4b3f-8fb8-dbcbbd6207d1",
   "metadata": {},
   "source": [
    "# Specifying your own Traffic Generator\n",
    "\n",
    "Ultimately, a `TrafficGenerator` is just any process that can be sampled for wireless `Traffic`. Here, we take a more abstract route and directly define a probability distribution over `Traffic`-objects. We do so by specifying distributions over critical wireless parameters:\n",
    "1. `ArrivalProcess`: A distribution (process) over packet arrival times.\n",
    "2. A distribution over channels\n",
    "3. A distribution over spreading factors\n",
    "4. A distribution over airtimes\n",
    "5. A distribution over (received) power"
   ]
  },
  {
   "cell_type": "markdown",
   "id": "c859660f-7a28-476a-a0f1-f7a3e2a3224f",
   "metadata": {},
   "source": [
    "### 1. An arrival process\n",
    "\n",
    "Let's specify how packets arrive by instantiating an `ArrivalProcess`.\n",
    "- First specify a `TimeWindow` with a `buffer`\n",
    "- Next equip the`TimeWindow` with an `ArrivalProcess`"
   ]
  },
  {
   "cell_type": "markdown",
   "id": "0899755c-a408-4a61-bcfd-6c2ebe9a4297",
   "metadata": {
    "tags": []
   },
   "source": [
    "#### Specify a timeWindow"
   ]
  },
  {
   "cell_type": "code",
   "execution_count": null,
   "id": "713c8a48-0859-46f6-84d0-ba2cf8a0463e",
   "metadata": {},
   "outputs": [],
   "source": [
    "window = lpp.TimeWindow(0, 1, buffer=1)"
   ]
  },
  {
   "cell_type": "code",
   "execution_count": null,
   "id": "192148f6-ba26-4d64-8993-3694a8082978",
   "metadata": {},
   "outputs": [],
   "source": [
    "print(window)\n",
    "print(f\"\\nNote {window.length = } because this includes buffer {window.buff = }.\")"
   ]
  },
  {
   "cell_type": "markdown",
   "id": "ceccbb8f-bdd6-4456-bfbd-3ead5e3eb74d",
   "metadata": {},
   "source": [
    "<br>\n",
    "\n",
    "#### Specify an ArrivalProcess"
   ]
  },
  {
   "cell_type": "markdown",
   "id": "83b45485-ba5f-4116-b869-c676424d80a7",
   "metadata": {},
   "source": [
    "With our `TimeWindow` we can proceeed by defining an `ArrivalProcess`.\n",
    "\n",
    "Let try a `PoissonArrivalProcess` by specifying an arrival rate (packets / second)."
   ]
  },
  {
   "cell_type": "code",
   "execution_count": null,
   "id": "e98b58ab-9579-430c-9666-7839022ccd0c",
   "metadata": {},
   "outputs": [],
   "source": [
    "arrivals = lpp.PoissonArrivals(timeWindow=window, rate=4.5)"
   ]
  },
  {
   "cell_type": "code",
   "execution_count": null,
   "id": "03d8fdb6-8fd5-4892-8a35-9010c5092c71",
   "metadata": {},
   "outputs": [],
   "source": [
    "print(arrivals)"
   ]
  },
  {
   "cell_type": "markdown",
   "id": "e94a71db-6f46-4152-9b60-b3b5dfbd21c9",
   "metadata": {},
   "source": [
    "<br>\n",
    "\n",
    "#### Sampling arrival times\n",
    "An `ArrivalProcess` lets us sample arrivals - both their number and time over the `TimeWindow` using `sample()`.\n",
    "\n",
    "We can visualize the arrivals. Try sampling a few times - note that the number of arrivals as well as the arrival times vary"
   ]
  },
  {
   "cell_type": "code",
   "execution_count": null,
   "id": "752dd95a-eef5-4971-9d26-bda470da8d27",
   "metadata": {},
   "outputs": [],
   "source": [
    "# sample arrivals\n",
    "N = 2\n",
    "\n",
    "arr = arrivals.sample(N)\n",
    "\n",
    "nObs = arr[0].shape[0]\n",
    "\n",
    "\n",
    "# plot arrivals\n",
    "fig, ax = plt.subplots(N, figsize=(8, N*2))\n",
    "for i in range(N):\n",
    "    ax[i].scatter(arr[i], np.zeros(arr[i].shape[0]))\n",
    "    ax[i].set_ylim([-1,1])\n",
    "    ax[i].set_xlim([window.tMin - window.buff, window.tMax + window.buff])\n",
    "    ax[i].set_yticklabels([])\n",
    "    ax[i].set_yticks([])\n",
    "    ax[i].axvline(x=window.tMin, c='r')\n",
    "    ax[i].axvline(x=window.tMax, c='r')\n",
    "    if i == N-1:\n",
    "        ax[i].set_xlabel(\"time\")\n",
    "    if i == 0:\n",
    "        ax[i].set_title(\"Poisson arrivals\")\n",
    "plt.show()"
   ]
  },
  {
   "cell_type": "markdown",
   "id": "42ce594f-b83f-432c-8652-4ba3a2076a3c",
   "metadata": {},
   "source": [
    "<br>\n",
    "\n",
    "### 2. Distributions over wireless parameters\n",
    "\n",
    "Next, we simply specify a distribution over the essential LoRaWAN parameters. To help us keep track of which parameters to specify distributions over, we can refer to the `lpf.LoRaParameters` object.\n",
    "\n",
    "We will also make use of these parameters when computing airtimes."
   ]
  },
  {
   "cell_type": "code",
   "execution_count": null,
   "id": "02065741-a495-43d6-b7b9-261e38c179f3",
   "metadata": {},
   "outputs": [],
   "source": [
    "# specify a LoRaWAN-parameters object\n",
    "wan = lpf.LoRaParameters(nChannels=4)\n",
    "\n",
    "print(wan)"
   ]
  },
  {
   "cell_type": "code",
   "execution_count": null,
   "id": "3b76c9ee-8eb5-4c20-a1ed-0a845547c203",
   "metadata": {},
   "outputs": [],
   "source": [
    "# specify a sperading factor distirbution\n",
    "channelDist = lpd.Choice(4)  # unifom when no parameters specified\n",
    "print(channelDist)"
   ]
  },
  {
   "cell_type": "code",
   "execution_count": null,
   "id": "7cfb509e-1dd8-47e7-a390-08c40fa3671e",
   "metadata": {},
   "outputs": [],
   "source": [
    "# specify a sperading factor distirbution\n",
    "spreadingDist = lpd.Choice(wan.sf, p=[0.1, 0.2, 0.3, 0.4])\n",
    "print(spreadingDist)"
   ]
  },
  {
   "cell_type": "code",
   "execution_count": null,
   "id": "358dba98-19f6-4154-827e-25af327595e7",
   "metadata": {},
   "outputs": [],
   "source": [
    "# payload dist\n",
    "payloadDist = lpd.Choice(a=[10, 11])\n",
    "print(payloadDist)"
   ]
  },
  {
   "cell_type": "code",
   "execution_count": null,
   "id": "0a9737c8-6594-4906-8bd4-c7acdd8c79cc",
   "metadata": {},
   "outputs": [],
   "source": [
    "# a power distribution\n",
    "powerDist = lpd.Normal(loc=-80, scale=10)\n",
    "print(powerDist)"
   ]
  },
  {
   "cell_type": "code",
   "execution_count": null,
   "id": "3be2d963-6251-4872-bba1-b4f1deb960ac",
   "metadata": {},
   "outputs": [],
   "source": []
  },
  {
   "cell_type": "code",
   "execution_count": null,
   "id": "27e4a12a-945d-4f9d-8b7c-f0e1c7c91b20",
   "metadata": {},
   "outputs": [],
   "source": []
  },
  {
   "cell_type": "code",
   "execution_count": null,
   "id": "ee97d1fc-fdb9-4c1e-8538-39dd4cb1c3d0",
   "metadata": {},
   "outputs": [],
   "source": [
    "# Collect all parts in a LoRa distribution\n",
    "loraDist = lpf.IndependentLoRaGenerator(arrivals=arrivals,\n",
    "                                        params=wan,\n",
    "                                        channelDist = channelDist,\n",
    "                                        spreadingDist = spreadingDist,\n",
    "                                        payloadDist = payloadDist,\n",
    "                                        powerDist = powerDist)"
   ]
  },
  {
   "cell_type": "markdown",
   "id": "cd1f54b5-f451-475a-bac6-0367e402eecf",
   "metadata": {},
   "source": [
    "<br>\n",
    "\n",
    "#### Sampling and plotting traffic"
   ]
  },
  {
   "cell_type": "code",
   "execution_count": null,
   "id": "89440023-5088-43ef-ae78-e170439be558",
   "metadata": {},
   "outputs": [],
   "source": [
    "traffic = loraDist.sample(10)  # sample 3 Traffic realizations"
   ]
  },
  {
   "cell_type": "markdown",
   "id": "8fbed78f-4d79-4e34-bc3b-19d1105cf5e2",
   "metadata": {},
   "source": [
    "# Modeling wireless interference"
   ]
  },
  {
   "cell_type": "markdown",
   "id": "634d9c03-6628-42da-9b70-7fd68c9dbfb7",
   "metadata": {},
   "source": [
    "## ALOHA-style thinning"
   ]
  },
  {
   "cell_type": "code",
   "execution_count": null,
   "id": "b2197a8a-abd4-460e-945d-1e116e862162",
   "metadata": {},
   "outputs": [],
   "source": [
    "traffic[0].plot(text=True, figsize=(8,4), linewidths=20,);"
   ]
  },
  {
   "cell_type": "code",
   "execution_count": null,
   "id": "d45245df-157f-4872-9543-e23c33196ad6",
   "metadata": {},
   "outputs": [],
   "source": [
    "traffic[0].thinALOHA()"
   ]
  },
  {
   "cell_type": "code",
   "execution_count": null,
   "id": "6d081b36-a646-4285-9c6d-806e1bc0bbca",
   "metadata": {},
   "outputs": [],
   "source": []
  },
  {
   "cell_type": "markdown",
   "id": "33e20db3-054d-403b-aa76-92056a784972",
   "metadata": {},
   "source": [
    "### Determinantal thinnig"
   ]
  },
  {
   "cell_type": "code",
   "execution_count": null,
   "id": "910a250c-b80a-4eac-a5cb-02467cd22736",
   "metadata": {},
   "outputs": [],
   "source": [
    "from loraplan.probability import thinning_determinantal as thd"
   ]
  },
  {
   "cell_type": "code",
   "execution_count": null,
   "id": "ef4e550b-f6a1-4210-b829-44bf0c4e9ec2",
   "metadata": {},
   "outputs": [],
   "source": [
    "qual = thd.ExponentialQuality(variables=['constant', 'airtime', 'power'])"
   ]
  },
  {
   "cell_type": "code",
   "execution_count": null,
   "id": "11c05e69-7b70-491a-a460-a00f56a95674",
   "metadata": {},
   "outputs": [],
   "source": [
    "simi = thd.RBF(variables=['airtime', 'channel', 'sf'])"
   ]
  },
  {
   "cell_type": "code",
   "execution_count": null,
   "id": "cd62ab7d-feb0-42bc-af2b-84b533af1af4",
   "metadata": {},
   "outputs": [],
   "source": [
    "ell = thd.EllEnsemble(qual, simi)"
   ]
  },
  {
   "cell_type": "code",
   "execution_count": null,
   "id": "80437dac-c7ac-411d-a96a-9675d67cae78",
   "metadata": {},
   "outputs": [],
   "source": [
    "parameters = {}\n",
    "parameters['quality'] = dict(zip(['constant', 'airtime', 'power'], [80, 1, 0.7]))\n",
    "parameters['similarity'] = dict(zip(['airtime', 'channel', 'sf'], [0, -2, -2]))"
   ]
  },
  {
   "cell_type": "code",
   "execution_count": null,
   "id": "2552bbcd-996d-4ae8-a187-9232662165ab",
   "metadata": {},
   "outputs": [],
   "source": [
    "ell.sample(traffic[0].to_dict(addConstant=True), parameters)"
   ]
  },
  {
   "cell_type": "code",
   "execution_count": null,
   "id": "83ee6aa5-9293-4840-b318-e4c8f2ad3bfc",
   "metadata": {},
   "outputs": [],
   "source": [
    "traffic[0].thinALOHA()"
   ]
  },
  {
   "cell_type": "code",
   "execution_count": null,
   "id": "afb5d39d-a192-47ff-914d-d83821f9785a",
   "metadata": {},
   "outputs": [],
   "source": [
    "class MaternThinning:\n",
    "    \"\"\"\n",
    "    A Matérn thinning model.\n",
    "    \n",
    "    Matérn thinning is a hard-core thinning process for a collection of points\n",
    "    in which each point is equipped with a mark. A ball (core) of fixed radius\n",
    "    is drawn around each point. Points with overlapping cores are considered\n",
    "    colliding. How collisions are resolved depends on the type. Each type is\n",
    "    more forgiving than the last.\n",
    "    #. Type I: All colliding points are thinned. This models scenarios in which\n",
    "    it is impossible to observe points withing 2 radii of each other.\n",
    "    #. Type II: Among colliding pairs, the one with the higher mark is retained,\n",
    "    the other points is are thinned.\n",
    "    #. Type III: Among colliding pairs, only points with colliding neighbors\n",
    "    that are both higher marked *and* retained are thinned.\n",
    "    \n",
    "    Attributes\n",
    "    ----------\n",
    "    radius : float\n",
    "        Fixed radius of interaction between points.\n",
    "    kind : str, optional\n",
    "        Default is '1', while '2' and '3' are also supported. See notes.\n",
    "    \n",
    "    Methods\n",
    "    -------\n",
    "    thin\n",
    "        Thins a given (marked) point process.\n",
    "        \n",
    "    Notes\n",
    "    -----\n",
    "    The process is named after Bertil Matérn who published on them in 1962.\n",
    "    \"\"\"\n",
    "    \n",
    "    def __init__(self, radius, kind='1'):\n",
    "        \"\"\"\n",
    "        Instantiate Matérn thinning model.\n",
    "        \"\"\"\n",
    "        self.radius = radius\n",
    "        self.kind = kind\n",
    "    \n",
    "    def thin(self, points, marks=None, radius=None, kind=None):\n",
    "        \"\"\"\n",
    "        Applies Matérn thinning to a collection of points.\n",
    "        \n",
    "        Parameters\n",
    "        ----------\n",
    "        points : array_like\n",
    "            An array of point coordinates of shape [nPoints, nDims] where\n",
    "            nPoints is the number of points, and nDims the dimensionality\n",
    "            of the space the points occupy.\n",
    "        \n",
    "        marks : array-like, optional\n",
    "            Array of marks, used only if kind == '2' or '3'. Marks should\n",
    "            support comparisons (>, <, =) and match `points` in 1st dim.\n",
    "        \n",
    "        radius : float, optional\n",
    "            Optional radius that, if provided, overrides internal radius.\n",
    "        \n",
    "        kind : str, optional\n",
    "            Optional kind-str that overrides internal kind if provided.\n",
    "        \n",
    "        Returns\n",
    "        -------\n",
    "        retained : array of bools\n",
    "            An array of bools labeling each points is retained or thinned.\n",
    "        \"\"\"\n",
    "   \n",
    "    \n",
    "        # sample start and end times of each point\n",
    "        starts = [np.random.uniform(0, 3, n) for n in n_points]\n",
    "        for i in range(len(starts)):\n",
    "            starts[i].sort() # sort start times\n",
    "        ends = [s + airtime for s in starts]\n",
    "        times = [np.vstack((starts[i], ends[i])).T for i in range(len(ends))] # stack\n",
    "        times = [t/airtime for t in times] # normalize times by airtime\n",
    "    \n",
    "        # compute overlap between points\n",
    "        D = [pdist(s.reshape(len(s), 1), metric=\"euclidean\") for s in starts]\n",
    "        D = [squareform(d) for d in D]   # make full square matrices\n",
    "        D = [(d < airtime)*1 for d in D] # 0-1 matrices of overlap\n",
    "    \n",
    "        overlap = [np.sum(d, axis=0) for d in D]\n",
    "        overlap = [(ovlp > 1)*1 for ovlp in overlap]\n",
    "    \n",
    "        # compute dummy for overlapping with earlier point\n",
    "        D = [d * (1 - np.tri(*d.shape, k=0)) for d in D] # takes upper triangle of collisions\n",
    "        X = [np.sum(d, axis=0) for d in D] # vectors of nr. overlapping pre-arriving packets\n",
    "    \n",
    "        overlap_early = [(x > 0)*1 for x in X] # dummy overlapping with earlier point\n",
    "    \n",
    "        # collect data\n",
    "        for i in range(len(X)):\n",
    "            ones = np.ones(len(X[i]))\n",
    "            zeros = np.zeros(len(X[i]))\n",
    "            X[i] = np.vstack((zeros,\n",
    "                              ones,\n",
    "                              overlap[i],\n",
    "                              overlap_early[i],\n",
    "                              #starts[i]/airtime\n",
    "                             )).T  # add 1s column to X\n",
    "    \n",
    "        # get Matérn type III inclusion\n",
    "        for j in range(len(D)):\n",
    "            n_points = D[j].shape[0]\n",
    "            if n_points > 0:\n",
    "                for i in range(1, len(D[j])):\n",
    "                    if D[j][:,i].sum() > 0:\n",
    "                        # reject i and remove all 1s in i's row\n",
    "                        D[j][i, i:n_points] = np.zeros(n_points - i)\n",
    "            X[j][:,0] = D[j].sum(axis=0)    \n",
    "\n",
    "        \n",
    "        incl  = [np.where(x[:,0]==0)[0] for x in X]\n",
    "    \n",
    "        X = [x[:, 1:] for x in X] # drop ground truth\n",
    "    \n",
    "        if kind == '2':\n",
    "            # get inclusion from 3rd column: 'overlap_early'\n",
    "            incl = [np.where(x[:,2]==0)[0] for x in X] \n",
    "    \n",
    "        if kind == '1':\n",
    "            # get inclusion from 2nd column: 'overlap'\n",
    "            incl = [np.where(x[:,1]==0)[0] for x in X]\n",
    "        \n",
    "        return X, times, incl, D"
   ]
  },
  {
   "cell_type": "code",
   "execution_count": null,
   "id": "49bc666b-54b4-4224-83f7-61aaebd90a72",
   "metadata": {},
   "outputs": [],
   "source": []
  }
 ],
 "metadata": {
  "kernelspec": {
   "display_name": "Python 3.9.13 ('env': venv)",
   "language": "python",
   "name": "python3"
  },
  "language_info": {
   "codemirror_mode": {
    "name": "ipython",
    "version": 3
   },
   "file_extension": ".py",
   "mimetype": "text/x-python",
   "name": "python",
   "nbconvert_exporter": "python",
   "pygments_lexer": "ipython3",
   "version": "3.9.13"
  },
  "vscode": {
   "interpreter": {
    "hash": "75082d26d9bc36ef8d2a2a981283f57c186f29ccaa5fbb5611e4f873ef8320f2"
   }
  }
 },
 "nbformat": 4,
 "nbformat_minor": 5
}
