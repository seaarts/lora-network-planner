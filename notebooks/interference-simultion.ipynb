{
 "cells": [
  {
   "cell_type": "markdown",
   "id": "2c78e862-ec3f-4351-bd41-9fef79492d14",
   "metadata": {},
   "source": [
    "# Simulating Wireless Interference\n",
    "\n",
    "Sander Aarts, 2022.\n",
    "\n",
    "\n",
    "# Introduction\n",
    "When the number of devices is large, LoRa networks may suffer from _wireless interference_. This interference stems from concurrent packets using the same channels physically disturbing each others' radio signals. This may lead to _packets loss_, and an consequently a  lower throughput of the network. As network planners it is our job to ensure that packet loss due to interference is within acceptable levels. To do so, it is useful to estimate the packet error rate for various network designs. However, testing large networks with thousands of devices in the real world is difficult, costly, and distruptive. Instead, we turn to _simulation_, where running experiments is easy, cheap, and does not disrupt wireless applications of real users. Despite being virtual, these simulations can we can nevertheless inform real-world network design if made realistic where it matters. This notebook is a guide towards this end.\n",
    " \n",
    "On a high level, interference simulations take three main components:\n",
    " 1. A _network model_ that describes how wireless traffic is generated\n",
    " 2. An _interference model_ that takes traffic arriving at a recevier and determines which transmissions are received, and which are lost.\n",
    " 3. Analysis of output from this model.\n",
    "\n",
    "In this notebook we discuss each point in turn, and show how the `loraplan.interefence`-module is used to this end.\n",
    "\n",
    "## Contents\n",
    "This notebook showcases the `loraplan.interference` module from the point of view of interference simulations. The notebook includes the following.\n",
    "- Setting up a simulate LoRa network, and a LoRa `TrafficGenerator`\n",
    "    - Choosing the type of network to simulate\n",
    "    - Choosing distributions from `loraplan.distributions`.\n",
    "- Generating and understadning LoRa `Traffic`\n",
    "- Interference models\n",
    "- Running simulations\n",
    "- Analyzing simulated output"
   ]
  },
  {
   "cell_type": "code",
   "execution_count": 36,
   "id": "c18e6094-6c51-40e2-9d18-5719e48d1309",
   "metadata": {},
   "outputs": [
    {
     "name": "stderr",
     "output_type": "stream",
     "text": [
      "[autoreload of interference failed: Traceback (most recent call last):\n",
      "  File \"/Users/sander/miniforge3/envs/lora/lib/python3.10/site-packages/IPython/extensions/autoreload.py\", line 257, in check\n",
      "    superreload(m, reload, self.old_objects)\n",
      "  File \"/Users/sander/miniforge3/envs/lora/lib/python3.10/site-packages/IPython/extensions/autoreload.py\", line 455, in superreload\n",
      "    module = reload(module)\n",
      "  File \"/Users/sander/miniforge3/envs/lora/lib/python3.10/importlib/__init__.py\", line 169, in reload\n",
      "    _bootstrap._exec(spec, module)\n",
      "  File \"<frozen importlib._bootstrap>\", line 619, in _exec\n",
      "  File \"<frozen importlib._bootstrap_external>\", line 883, in exec_module\n",
      "  File \"<frozen importlib._bootstrap>\", line 241, in _call_with_frames_removed\n",
      "  File \"/Users/sander/Desktop/lora-network-planner/src/loraplan/interference.py\", line 23, in <module>\n",
      "    from loraplan.distributions import maternThinningI\n",
      "ModuleNotFoundError: No module named 'loraplan'\n",
      "]\n"
     ]
    }
   ],
   "source": [
    "import os\n",
    "import sys\n",
    "import numpy as np\n",
    "import matplotlib.pyplot as plt\n",
    "from abc import ABC, abstractmethod\n",
    "import collections.abc\n",
    "\n",
    "from matplotlib import collections  as mc\n",
    "\n",
    "from scipy.spatial.distance import pdist, squareform"
   ]
  },
  {
   "cell_type": "code",
   "execution_count": 37,
   "id": "edeab975-41f4-4fa1-990e-a7f24b1ac7a1",
   "metadata": {},
   "outputs": [
    {
     "name": "stdout",
     "output_type": "stream",
     "text": [
      "The autoreload extension is already loaded. To reload it, use:\n",
      "  %reload_ext autoreload\n"
     ]
    }
   ],
   "source": [
    "# set path to where modules are\n",
    "sys.path.insert(0, os.path.abspath('../src/'))\n",
    "\n",
    "%load_ext autoreload\n",
    "%autoreload 2"
   ]
  },
  {
   "cell_type": "code",
   "execution_count": 39,
   "id": "038e6aab-a64e-42bd-b93b-7c5703deee1e",
   "metadata": {},
   "outputs": [],
   "source": [
    "# load modules\n",
    "import loraplan.interference as lpf\n",
    "import loraplan.distributions as lpd"
   ]
  },
  {
   "cell_type": "markdown",
   "id": "4d9c8f44-7159-43f8-9076-9774750e07cd",
   "metadata": {},
   "source": [
    "# Generating wireless traffic with a simulated network"
   ]
  },
  {
   "cell_type": "markdown",
   "id": "c8807b70-6d5e-4276-8640-dd7ae9e897a6",
   "metadata": {},
   "source": [
    "## An abstract approach: A distirbution over traffic\n",
    "\n",
    "Ultimately, a network model's main purpose is to generate wireless `Traffic`. Here, we take a more abstract route and directly define a probability distribution over `Traffic`-objects. We do so by specifying distributions over critical wireless parameters:\n",
    "1. `ArrivalProcess`: A distribution (process) over packet arrival times.\n",
    "2. A distribution over channels\n",
    "3. A distribution over spreading factors\n",
    "4. A distribution over airtimes\n",
    "5. A distribution over (received) power"
   ]
  },
  {
   "cell_type": "markdown",
   "id": "c859660f-7a28-476a-a0f1-f7a3e2a3224f",
   "metadata": {},
   "source": [
    "### 1. An arrival process\n",
    "\n",
    "Let's specify how packets arrive by instantiating an `ArrivalProcess`.\n",
    "- First specify a `TimeWindow` with a `buffer`\n",
    "- Next equip the`TimeWindow` with an `ArrivalProcess`"
   ]
  },
  {
   "cell_type": "markdown",
   "id": "0899755c-a408-4a61-bcfd-6c2ebe9a4297",
   "metadata": {
    "tags": []
   },
   "source": [
    "#### Specify a timeWindow"
   ]
  },
  {
   "cell_type": "code",
   "execution_count": 40,
   "id": "713c8a48-0859-46f6-84d0-ba2cf8a0463e",
   "metadata": {},
   "outputs": [],
   "source": [
    "window = lpd.TimeWindow(0, 1, buffer=1)"
   ]
  },
  {
   "cell_type": "code",
   "execution_count": 41,
   "id": "192148f6-ba26-4d64-8993-3694a8082978",
   "metadata": {},
   "outputs": [
    {
     "name": "stdout",
     "output_type": "stream",
     "text": [
      "TimeWindow(0, 1, buffer=1)\n",
      "\n",
      "Note window.length = 3 because this includes buffer window.buff = 1.\n"
     ]
    }
   ],
   "source": [
    "print(window)\n",
    "print(f\"\\nNote {window.length = } because this includes buffer {window.buff = }.\")"
   ]
  },
  {
   "cell_type": "markdown",
   "id": "ceccbb8f-bdd6-4456-bfbd-3ead5e3eb74d",
   "metadata": {},
   "source": [
    "<br>\n",
    "\n",
    "#### Specify an ArrivalProcess"
   ]
  },
  {
   "cell_type": "markdown",
   "id": "83b45485-ba5f-4116-b869-c676424d80a7",
   "metadata": {},
   "source": [
    "With our `TimeWindow` we can proceeed by defining an `ArrivalProcess`.\n",
    "\n",
    "Let try a `PoissonArrivalProcess` by specifying an arrival rate (packets / second)."
   ]
  },
  {
   "cell_type": "code",
   "execution_count": 42,
   "id": "e98b58ab-9579-430c-9666-7839022ccd0c",
   "metadata": {},
   "outputs": [],
   "source": [
    "arrivals = lpd.PoissonArrivals(timeWindow=window, rate=4.5)"
   ]
  },
  {
   "cell_type": "code",
   "execution_count": 43,
   "id": "03d8fdb6-8fd5-4892-8a35-9010c5092c71",
   "metadata": {},
   "outputs": [
    {
     "name": "stdout",
     "output_type": "stream",
     "text": [
      "HomogeneousPoissonArrivals(TimeWindow(0, 1, buffer=1), rate=4.5)\n"
     ]
    }
   ],
   "source": [
    "print(arrivals)"
   ]
  },
  {
   "cell_type": "markdown",
   "id": "e94a71db-6f46-4152-9b60-b3b5dfbd21c9",
   "metadata": {},
   "source": [
    "<br>\n",
    "\n",
    "#### Sampling arrival times\n",
    "An `ArrivalProcess` lets us sample arrivals - both their number and time over the `TimeWindow` using `sample()`.\n",
    "\n",
    "We can visualize the arrivals. Try sampling a few times - note that the number of arrivals as well as the arrival times vary"
   ]
  },
  {
   "cell_type": "code",
   "execution_count": 8,
   "id": "752dd95a-eef5-4971-9d26-bda470da8d27",
   "metadata": {},
   "outputs": [
    {
     "data": {
      "image/png": "[encoded data removed]",
      "text/plain": [
       "<Figure size 576x288 with 2 Axes>"
      ]
     },
     "metadata": {
      "needs_background": "light"
     },
     "output_type": "display_data"
    }
   ],
   "source": [
    "# sample arrivals\n",
    "N = 2\n",
    "\n",
    "arr = arrivals.sample(N)\n",
    "\n",
    "nObs = arr[0].shape[0]\n",
    "\n",
    "\n",
    "# plot arrivals\n",
    "fig, ax = plt.subplots(N, figsize=(8, N*2))\n",
    "for i in range(N):\n",
    "    ax[i].scatter(arr[i], np.zeros(arr[i].shape[0]))\n",
    "    ax[i].set_ylim([-1,1])\n",
    "    ax[i].set_xlim([window.tMin - window.buff, window.tMax + window.buff])\n",
    "    ax[i].set_yticklabels([])\n",
    "    ax[i].set_yticks([])\n",
    "    ax[i].axvline(x=window.tMin, c='r')\n",
    "    ax[i].axvline(x=window.tMax, c='r')\n",
    "    if i == N-1:\n",
    "        ax[i].set_xlabel(\"time\")\n",
    "    if i == 0:\n",
    "        ax[i].set_title(\"Poisson arrivals\")\n",
    "plt.show()"
   ]
  },
  {
   "cell_type": "markdown",
   "id": "42ce594f-b83f-432c-8652-4ba3a2076a3c",
   "metadata": {},
   "source": [
    "<br>\n",
    "\n",
    "### 2. Distributions over wireless parameters\n",
    "\n",
    "Next, we simply specify a distribution over the essential LoRaWAN parameters. To help us keep track of which parameters to specify distributions over, we can refer to the `lpf.LoRaParameters` object.\n",
    "\n",
    "We will also make use of these parameters when computing airtimes."
   ]
  },
  {
   "cell_type": "code",
   "execution_count": 9,
   "id": "02065741-a495-43d6-b7b9-261e38c179f3",
   "metadata": {},
   "outputs": [
    {
     "name": "stdout",
     "output_type": "stream",
     "text": [
      "A LoRa Parameters object with params:\n",
      "\t nChannels: 4\n",
      "\t freq: 915\n",
      "\t bw: 125\n",
      "\t sf: [7, 8, 9, 10]\n",
      "\t overhead: 13\n",
      "\t maxPow: 30\n",
      "\t codingRate: 4/5\n",
      "\t dwellTime: 0.4\n",
      "\t dutyCycle: None\n"
     ]
    }
   ],
   "source": [
    "# specify a LoRaWAN-parameters object\n",
    "wan = lpf.LoRaParameters(nChannels=4)\n",
    "\n",
    "print(wan)"
   ]
  },
  {
   "cell_type": "code",
   "execution_count": 10,
   "id": "3b76c9ee-8eb5-4c20-a1ed-0a845547c203",
   "metadata": {},
   "outputs": [
    {
     "name": "stdout",
     "output_type": "stream",
     "text": [
      "DiscreteDistribution({'a': 1, 'p': None, 'replace': True, 'seed': None})\n"
     ]
    }
   ],
   "source": [
    "# specify a sperading factor distirbution\n",
    "channelDist = lpd.Choice(1)  # unifom when no parameters specified\n",
    "print(channelDist)"
   ]
  },
  {
   "cell_type": "code",
   "execution_count": 11,
   "id": "7cfb509e-1dd8-47e7-a390-08c40fa3671e",
   "metadata": {},
   "outputs": [
    {
     "name": "stdout",
     "output_type": "stream",
     "text": [
      "DiscreteDistribution({'a': [7, 8, 9, 10], 'p': [0.1, 0.2, 0.3, 0.4], 'replace': True, 'seed': None})\n"
     ]
    }
   ],
   "source": [
    "# specify a sperading factor distirbution\n",
    "spreadingDist = lpd.Choice(wan.sf, p=[0.1, 0.2, 0.3, 0.4])\n",
    "print(spreadingDist)"
   ]
  },
  {
   "cell_type": "code",
   "execution_count": 12,
   "id": "358dba98-19f6-4154-827e-25af327595e7",
   "metadata": {},
   "outputs": [
    {
     "name": "stdout",
     "output_type": "stream",
     "text": [
      "DiscreteDistribution({'a': [10, 11], 'p': None, 'replace': True, 'seed': None})\n"
     ]
    }
   ],
   "source": [
    "# payload dist\n",
    "payloadDist = lpd.Choice(a=[10, 11])\n",
    "print(payloadDist)"
   ]
  },
  {
   "cell_type": "code",
   "execution_count": 13,
   "id": "0a9737c8-6594-4906-8bd4-c7acdd8c79cc",
   "metadata": {},
   "outputs": [
    {
     "name": "stdout",
     "output_type": "stream",
     "text": [
      "NormalDistribution({'loc': -80, 'scale': 10, 'seed': None})\n"
     ]
    }
   ],
   "source": [
    "# a power distribution\n",
    "powerDist = lpd.Normal(loc=-80, scale=10)\n",
    "print(powerDist)"
   ]
  },
  {
   "cell_type": "code",
   "execution_count": 14,
   "id": "ee97d1fc-fdb9-4c1e-8538-39dd4cb1c3d0",
   "metadata": {},
   "outputs": [],
   "source": [
    "# Collect all parts in a LoRa distribution\n",
    "loraDist = lpf.IndependentLoRaGenerator(arrivalProcess=arrivals,\n",
    "                                        loraParams=wan,\n",
    "                                        channelDist = channelDist,\n",
    "                                        spreadingDist = spreadingDist,\n",
    "                                        payloadDist = payloadDist,\n",
    "                                        powerDist = powerDist)"
   ]
  },
  {
   "cell_type": "markdown",
   "id": "cd1f54b5-f451-475a-bac6-0367e402eecf",
   "metadata": {},
   "source": [
    "<br>\n",
    "\n",
    "#### Sampling and plotting traffic"
   ]
  },
  {
   "cell_type": "code",
   "execution_count": 15,
   "id": "89440023-5088-43ef-ae78-e170439be558",
   "metadata": {},
   "outputs": [],
   "source": [
    "traffic = loraDist.sample(10)  # sample 3 Traffic realizations"
   ]
  },
  {
   "cell_type": "code",
   "execution_count": 16,
   "id": "1ea56456-ae75-44ad-aa49-efee6b719364",
   "metadata": {},
   "outputs": [
    {
     "name": "stdout",
     "output_type": "stream",
     "text": [
      "Traffic(nObs=array(12))\n"
     ]
    }
   ],
   "source": [
    "print(traffic[0])"
   ]
  },
  {
   "cell_type": "code",
   "execution_count": 17,
   "id": "15675635-9011-4a73-ac19-9d08c641b714",
   "metadata": {},
   "outputs": [
    {
     "data": {
      "image/png": "[encoded data removed]",
      "text/plain": [
       "<Figure size 576x288 with 1 Axes>"
      ]
     },
     "metadata": {
      "needs_background": "light"
     },
     "output_type": "display_data"
    }
   ],
   "source": [
    "# plot traffic outcomes\n",
    "traffic[0].plot(text=True, figsize=(8,4), linewidths=20);"
   ]
  },
  {
   "cell_type": "markdown",
   "id": "8fbed78f-4d79-4e34-bc3b-19d1105cf5e2",
   "metadata": {},
   "source": [
    "# Modeling wireless interference"
   ]
  },
  {
   "cell_type": "code",
   "execution_count": 24,
   "id": "6eee519a-2f4b-45b0-beb9-2a8f1d99bc2f",
   "metadata": {},
   "outputs": [
    {
     "data": {
      "image/png": "[encoded data removed]",
      "text/plain": [
       "<Figure size 576x288 with 1 Axes>"
      ]
     },
     "metadata": {
      "needs_background": "light"
     },
     "output_type": "display_data"
    }
   ],
   "source": [
    "# plot traffic outcomes\n",
    "i = 5\n",
    "traffic[i].plot(text=True, figsize=(8,4), linewidths=20, labels=traffic[i].thinALOHA());"
   ]
  },
  {
   "cell_type": "code",
   "execution_count": 32,
   "id": "4310070f-503e-4353-a72b-f1c2177733f2",
   "metadata": {},
   "outputs": [],
   "source": [
    "tfc = lpf.Traffic(2, [0, 0.19], [0.2, 0.2], [1, 1], [7, 7], [0, 0])"
   ]
  },
  {
   "cell_type": "code",
   "execution_count": 35,
   "id": "15f5e575-2e4d-41e6-b1a4-0d43d7353e82",
   "metadata": {},
   "outputs": [
    {
     "data": {
      "image/png": "[encoded data removed]",
      "text/plain": [
       "<Figure size 432x288 with 1 Axes>"
      ]
     },
     "metadata": {
      "needs_background": "light"
     },
     "output_type": "display_data"
    }
   ],
   "source": [
    "tfc.plot(labels = tfc.thinALOHA());"
   ]
  },
  {
   "cell_type": "code",
   "execution_count": 34,
   "id": "89d62787-f335-473d-abbe-3cba0bd97635",
   "metadata": {},
   "outputs": [
    {
     "data": {
      "text/plain": [
       "array([False, False])"
      ]
     },
     "execution_count": 34,
     "metadata": {},
     "output_type": "execute_result"
    }
   ],
   "source": [
    "tfc.thinALOHA()"
   ]
  },
  {
   "cell_type": "code",
   "execution_count": 28,
   "id": "a1865d7a-f10a-4a67-87d6-6ab41bee3dbf",
   "metadata": {},
   "outputs": [
    {
     "name": "stdout",
     "output_type": "stream",
     "text": [
      "[0.1 0.1]\n"
     ]
    }
   ],
   "source": [
    "radius = tfc.airtime / 2\n",
    "points = np.vstack((tfc.midpoint, tfc.channel, tfc.sf)).T\n",
    "if not isinstance(radius, (collections.abc.Sequence, np.ndarray)):\n",
    "        radius = np.repeat(radius, points.shape[0])\n",
    "else:\n",
    "    if radius.shape[0] != points.shape[0]:\n",
    "        raise ValueError(\"Number of points and number of radii do not match.\")\n",
    "    \n",
    "print(radius)"
   ]
  },
  {
   "cell_type": "code",
   "execution_count": null,
   "id": "ded3b51a-cf54-46ed-9d2c-c388386aea02",
   "metadata": {},
   "outputs": [],
   "source": [
    "points"
   ]
  },
  {
   "cell_type": "code",
   "execution_count": null,
   "id": "61fb7145-70be-43d2-abd8-756cc14dbcbc",
   "metadata": {},
   "outputs": [],
   "source": [
    "tfc.midpoint"
   ]
  },
  {
   "cell_type": "code",
   "execution_count": null,
   "id": "a0349dc6-c28c-4ac2-8136-6db0803da5df",
   "metadata": {},
   "outputs": [],
   "source": [
    "# compute pairwise distances\n",
    "D = squareform(pdist(points, metric='seuclidean', V=[1, 1.0e-20, 1.0e-20]))\n",
    "    \n",
    "np.fill_diagonal(D, np.inf)\n",
    "print(D)"
   ]
  },
  {
   "cell_type": "code",
   "execution_count": null,
   "id": "f2df23b7-11a5-4634-af25-5e80d0dc510c",
   "metadata": {},
   "outputs": [],
   "source": [
    "\n",
    "    \n",
    "    R = radius[np.newaxis,] + radius[np.newaxis,].T\n",
    "    \n",
    "    return (D > R).all(axis=1)"
   ]
  },
  {
   "cell_type": "code",
   "execution_count": null,
   "id": "2c6bb0f0-5414-4684-940d-80bb82d0f630",
   "metadata": {},
   "outputs": [],
   "source": [
    "def thinALOHA(traffic):\n",
    "    \"\"\"\n",
    "    ALOHA-style thinning for LoRa Traffic.\n",
    "    \n",
    "    ALOHA-style thining the among the most popular interference models\n",
    "    for LoRa and LoRaWAN. The model assumes that each unique channel\n",
    "    and spearding factor pair (channel, sf) defines a logical channel.\n",
    "    Logical channels are assumed to be _orthogonal_, that is indepentent\n",
    "    of each other and hence not a cause of interference. On the other hand,\n",
    "    any transmission that overlaps in time with another transmission on the\n",
    "    same logical channel is assumed to be lost.\n",
    "    \n",
    "    This is a type of Matérn Type I thinning, in which the distance between\n",
    "    packets on different channels or different spreading factors are large.\n",
    "    For same-channel-same-sf packets the distance between packets is the\n",
    "    distance between their midpoints. The radius of each packet is half its\n",
    "    airtime. This connection is used in the implementation below.\n",
    "    \n",
    "    Parameters\n",
    "    ----------\n",
    "    Traffic : interference.Traffic-object\n",
    "        An collection of LoRaWAN packets.\n",
    "    \n",
    "    Returns\n",
    "    -------\n",
    "    received : array of ints\n",
    "        Binary array indicating which packets in Traffic are\n",
    "        received successfully (1) and which are not (0)\n",
    "    \"\"\"\n",
    "    \n",
    "    if traffic.nObs == 0:\n",
    "        return []\n",
    "    \n",
    "    points = np.vstack((traffic.midpoint, traffic.channel, traffic.sf)).T\n",
    "    \n",
    "    radii = traffic.airtime / 2\n",
    "    \n",
    "    # a very small number to make different Ch or different sf transmissions\n",
    "    # produce a near-infinite distance\n",
    "    eps = 1.0e-30\n",
    "    \n",
    "    return lpd.maternThinningI(points, radii, metric='seuclidean', V=[1, eps, eps])"
   ]
  },
  {
   "cell_type": "code",
   "execution_count": null,
   "id": "0e059058-9233-49f6-addb-2477d67f5303",
   "metadata": {},
   "outputs": [],
   "source": [
    "thinALOHA(traffic[0])"
   ]
  },
  {
   "cell_type": "code",
   "execution_count": null,
   "id": "f132e6aa-d4da-4b75-ae71-936ae8c00531",
   "metadata": {},
   "outputs": [],
   "source": [
    "rect = lpd.Rectangle([-1, -1, 1 ,1])"
   ]
  },
  {
   "cell_type": "code",
   "execution_count": null,
   "id": "e32f4f76-383a-4bb8-8150-d407f0a9567e",
   "metadata": {},
   "outputs": [],
   "source": [
    "points = rect.poisson(3)"
   ]
  },
  {
   "cell_type": "code",
   "execution_count": null,
   "id": "8864a446-f2f1-41af-aabd-6681d6022dd4",
   "metadata": {},
   "outputs": [],
   "source": [
    "points = np.array([[0, 0], [0, 10], [0, 30]])\n",
    "print(points.shape)\n",
    "radius = np.array([5, 5, 10])\n",
    "maternThinningI(points, radius)"
   ]
  },
  {
   "cell_type": "code",
   "execution_count": null,
   "id": "9ec1dbca-e342-4fcb-adc8-ce305e943fcf",
   "metadata": {},
   "outputs": [],
   "source": [
    "def maternThinningI(points, radius, metric='euclidean', **kwargs):\n",
    "    \"\"\"\n",
    "    Apply Matérn Type I thinning to a collection of points.\n",
    "    \n",
    "    Matérn Type I thinning is a determinisitc thinning process for\n",
    "    selecting a subset of points among a given set. Thi is a hard-core\n",
    "    point process; each point represents the center of a ball with\n",
    "    a hard-core. The thinned output consists of all non-overlapping \n",
    "    points. In other words, every point that are too close to any\n",
    "    of the original points is thinned.\n",
    "    \n",
    "    Letting `D[i, j]` be the distance between points i and j this\n",
    "    function returns `True` for the `i`_th_ entry if for all j\n",
    "   \n",
    "    >`D[i, j] > radius[i] + radius[j]`\n",
    "    \n",
    "    Parameters\n",
    "    ----------\n",
    "    points : array_like\n",
    "        An array of shape (nPoints, nDims) of points in nDims\n",
    "        dimensional euclidean space.\n",
    "        \n",
    "    radius : float or array_like\n",
    "        A radius for the cores around the points. Can be array_like\n",
    "        in order to equip each point with its own radius.\n",
    "    \n",
    "    metric : str or function, optional\n",
    "        Passed to `scipy.spatial.distance.pdist`.\n",
    "    \n",
    "    kwargs\n",
    "        Passed to `scipy.spatial.distance.pdist`.\n",
    "    \n",
    "    Returns\n",
    "    -------\n",
    "    retained : array of booleans\n",
    "        An array of boolens of length nPoints indicating whether a\n",
    "        point is retained (True) or thinned (False).\n",
    "        \n",
    "    See Also\n",
    "    --------\n",
    "    `scipy.spatial.distance.pdist`\n",
    "    \"\"\"\n",
    "\n",
    "    if not isinstance(radius, (collections.abc.Sequence, np.ndarray)):\n",
    "        radius = np.repeat(radius, points.shape[0])\n",
    "    else:\n",
    "        if radius.shape[0] != points.shape[0]:\n",
    "            raise ValueError(\"Number of points and number of radii do not match.\")\n",
    "    \n",
    "    # compute pairwise distances\n",
    "    D = squareform(pdist(points, metric=metric, **kwargs))\n",
    "    \n",
    "    np.fill_diagonal(D, np.inf)\n",
    "    \n",
    "    R = radius[np.newaxis,] + radius[np.newaxis,].T\n",
    "    \n",
    "    return (D > R).all(axis=1)\n",
    "    "
   ]
  },
  {
   "cell_type": "code",
   "execution_count": null,
   "id": "afb5d39d-a192-47ff-914d-d83821f9785a",
   "metadata": {},
   "outputs": [],
   "source": [
    "\n",
    "\n",
    "    \n",
    "class MaternThinning:\n",
    "    \"\"\"\n",
    "    A Matérn thinning model.\n",
    "    \n",
    "    Matérn thinning is a hard-core thinning process for a collection of points\n",
    "    in which each point is equipped with a mark. A ball (core) of fixed radius\n",
    "    is drawn around each point. Points with overlapping cores are considered\n",
    "    colliding. How collisions are resolved depends on the type. Each type is\n",
    "    more forgiving than the last.\n",
    "    #. Type I: All colliding points are thinned. This models scenarios in which\n",
    "    it is impossible to observe points withing 2 radii of each other.\n",
    "    #. Type II: Among colliding pairs, the one with the higher mark is retained,\n",
    "    the other points is are thinned.\n",
    "    #. Type III: Among colliding pairs, only points with colliding neighbors\n",
    "    that are both higher marked *and* retained are thinned.\n",
    "    \n",
    "    Attributes\n",
    "    ----------\n",
    "    radius : float\n",
    "        Fixed radius of interaction between points.\n",
    "    kind : str, optional\n",
    "        Default is '1', while '2' and '3' are also supported. See notes.\n",
    "    \n",
    "    Methods\n",
    "    -------\n",
    "    thin\n",
    "        Thins a given (marked) point process.\n",
    "        \n",
    "    Notes\n",
    "    -----\n",
    "    The process is named after Bertil Matérn who published on them in 1962.\n",
    "    \"\"\"\n",
    "    \n",
    "    def __init__(self, radius, kind='1'):\n",
    "        \"\"\"\n",
    "        Instantiate Matérn thinning model.\n",
    "        \"\"\"\n",
    "        self.radius = radius\n",
    "        self.kind = kind\n",
    "    \n",
    "    def thin(self, points, marks=None, radius=None, kind=None):\n",
    "        \"\"\"\n",
    "        Applies Matérn thinning to a collection of points.\n",
    "        \n",
    "        Parameters\n",
    "        ----------\n",
    "        points : array_like\n",
    "            An array of point coordinates of shape [nPoints, nDims] where\n",
    "            nPoints is the number of points, and nDims the dimensionality\n",
    "            of the space the points occupy.\n",
    "        \n",
    "        marks : array-like, optional\n",
    "            Array of marks, used only if kind == '2' or '3'. Marks should\n",
    "            support comparisons (>, <, =) and match `points` in 1st dim.\n",
    "        \n",
    "        radius : float, optional\n",
    "            Optional radius that, if provided, overrides internal radius.\n",
    "        \n",
    "        kind : str, optional\n",
    "            Optional kind-str that overrides internal kind if provided.\n",
    "        \n",
    "        Returns\n",
    "        -------\n",
    "        retained : array of bools\n",
    "            An array of bools labeling each points is retained or thinned.\n",
    "        \"\"\"\n",
    "   \n",
    "    \n",
    "        # sample start and end times of each point\n",
    "        starts = [np.random.uniform(0, 3, n) for n in n_points]\n",
    "        for i in range(len(starts)):\n",
    "            starts[i].sort() # sort start times\n",
    "        ends = [s + airtime for s in starts]\n",
    "        times = [np.vstack((starts[i], ends[i])).T for i in range(len(ends))] # stack\n",
    "        times = [t/airtime for t in times] # normalize times by airtime\n",
    "    \n",
    "        # compute overlap between points\n",
    "        D = [pdist(s.reshape(len(s), 1), metric=\"euclidean\") for s in starts]\n",
    "        D = [squareform(d) for d in D]   # make full square matrices\n",
    "        D = [(d < airtime)*1 for d in D] # 0-1 matrices of overlap\n",
    "    \n",
    "        overlap = [np.sum(d, axis=0) for d in D]\n",
    "        overlap = [(ovlp > 1)*1 for ovlp in overlap]\n",
    "    \n",
    "        # compute dummy for overlapping with earlier point\n",
    "        D = [d * (1 - np.tri(*d.shape, k=0)) for d in D] # takes upper triangle of collisions\n",
    "        X = [np.sum(d, axis=0) for d in D] # vectors of nr. overlapping pre-arriving packets\n",
    "    \n",
    "        overlap_early = [(x > 0)*1 for x in X] # dummy overlapping with earlier point\n",
    "    \n",
    "        # collect data\n",
    "        for i in range(len(X)):\n",
    "            ones = np.ones(len(X[i]))\n",
    "            zeros = np.zeros(len(X[i]))\n",
    "            X[i] = np.vstack((zeros,\n",
    "                              ones,\n",
    "                              overlap[i],\n",
    "                              overlap_early[i],\n",
    "                              #starts[i]/airtime\n",
    "                             )).T  # add 1s column to X\n",
    "    \n",
    "        # get Matérn type III inclusion\n",
    "        for j in range(len(D)):\n",
    "            n_points = D[j].shape[0]\n",
    "            if n_points > 0:\n",
    "                for i in range(1, len(D[j])):\n",
    "                    if D[j][:,i].sum() > 0:\n",
    "                        # reject i and remove all 1s in i's row\n",
    "                        D[j][i, i:n_points] = np.zeros(n_points - i)\n",
    "            X[j][:,0] = D[j].sum(axis=0)    \n",
    "\n",
    "        \n",
    "        incl  = [np.where(x[:,0]==0)[0] for x in X]\n",
    "    \n",
    "        X = [x[:, 1:] for x in X] # drop ground truth\n",
    "    \n",
    "        if kind == '2':\n",
    "            # get inclusion from 3rd column: 'overlap_early'\n",
    "            incl = [np.where(x[:,2]==0)[0] for x in X] \n",
    "    \n",
    "        if kind == '1':\n",
    "            # get inclusion from 2nd column: 'overlap'\n",
    "            incl = [np.where(x[:,1]==0)[0] for x in X]\n",
    "        \n",
    "        return X, times, incl, D"
   ]
  },
  {
   "cell_type": "markdown",
   "id": "e35dd040-8b44-4219-a68b-b947cf4dc65b",
   "metadata": {},
   "source": [
    "# Simulation experiments and output analysis"
   ]
  },
  {
   "cell_type": "code",
   "execution_count": null,
   "id": "ab6c78c1-b676-49ed-92a9-bd7c1ef58c47",
   "metadata": {},
   "outputs": [],
   "source": []
  }
 ],
 "metadata": {
  "kernelspec": {
   "display_name": "Python (lora)",
   "language": "python",
   "name": "lora"
  },
  "language_info": {
   "codemirror_mode": {
    "name": "ipython",
    "version": 3
   },
   "file_extension": ".py",
   "mimetype": "text/x-python",
   "name": "python",
   "nbconvert_exporter": "python",
   "pygments_lexer": "ipython3",
   "version": "3.10.4"
  }
 },
 "nbformat": 4,
 "nbformat_minor": 5
}
