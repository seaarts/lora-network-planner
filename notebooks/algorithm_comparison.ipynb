{
 "cells": [
  {
   "attachments": {},
   "cell_type": "markdown",
   "metadata": {},
   "source": [
    "# Comparing algorithms for hitting set and set covering\n",
    "\n",
    "The `loraplan.algorithms` module contains a number of different algorithms. This notebook showcases the algoirthms in a comparison study on synthetic data."
   ]
  },
  {
   "cell_type": "code",
   "execution_count": 53,
   "metadata": {},
   "outputs": [],
   "source": [
    "import numpy as np\n",
    "import geopandas as gpd\n",
    "import loraplan.algorithms as lpa\n",
    "from loraplan.probability import point_processes as lpp\n",
    "from shapely.geometry import Polygon, Point"
   ]
  },
  {
   "cell_type": "code",
   "execution_count": 51,
   "metadata": {},
   "outputs": [],
   "source": [
    "rect = lpp.Rectangle((0, 0, 1, 1))\n",
    "\n"
   ]
  },
  {
   "cell_type": "code",
   "execution_count": 56,
   "metadata": {},
   "outputs": [],
   "source": [
    "rng = np.random.default_rng(seed=563452)\n",
    "pointCoords = rect.uniform(25, seed=rng)\n",
    "\n",
    "points = gpd.GeoDataFrame(geometry = [Point(*row) for row in pointCoords])"
   ]
  },
  {
   "cell_type": "code",
   "execution_count": 58,
   "metadata": {},
   "outputs": [],
   "source": [
    "# define sets\n",
    "rectCoords = [\n",
    "    ((0,0), (0, .4), (.4, .4), (.4, 0)),\n",
    "    ((.2, .2), (.2, .45), (.9, .45), (.9, .2)),\n",
    "    ((.8, .6), (.8, .9), (.9, .9), (.9, .6)),\n",
    "    ((.1, .3), (.1, .7), (.7, .7), (.7, .3)),\n",
    "    ((.0, .0), (.0, 1.0), (.2, 1.0), (.2, .0)),\n",
    "    ((.6, .25), (.6, 1.0), (1.0, 1.0), (1.0, .25)),\n",
    "    ((.05, .55), (.05, .95), (.75, .95), (.75, .55)),\n",
    "    ((.8, .0), (.8, .1), (.9, .1), (.9, .0))\n",
    "]\n",
    "\n",
    "sets = gpd.GeoDataFrame(geometry = [Polygon(coords) for coords in rectCoords])"
   ]
  },
  {
   "cell_type": "code",
   "execution_count": null,
   "metadata": {},
   "outputs": [],
   "source": [
    "fig, ax = plt.subplots()\n",
    "sets.plot(alpha=0.3, edgecolor='k')"
   ]
  }
 ],
 "metadata": {
  "kernelspec": {
   "display_name": "env",
   "language": "python",
   "name": "python3"
  },
  "language_info": {
   "codemirror_mode": {
    "name": "ipython",
    "version": 3
   },
   "file_extension": ".py",
   "mimetype": "text/x-python",
   "name": "python",
   "nbconvert_exporter": "python",
   "pygments_lexer": "ipython3",
   "version": "3.9.13"
  },
  "orig_nbformat": 4,
  "vscode": {
   "interpreter": {
    "hash": "75082d26d9bc36ef8d2a2a981283f57c186f29ccaa5fbb5611e4f873ef8320f2"
   }
  }
 },
 "nbformat": 4,
 "nbformat_minor": 2
}
