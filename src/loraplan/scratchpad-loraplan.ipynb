{
 "cells": [
  {
   "cell_type": "code",
   "execution_count": 1,
   "id": "90b835e7-efb9-4e12-a9d0-c0d4788baff7",
   "metadata": {},
   "outputs": [],
   "source": [
    "import numpy as np\n",
    "from abc import ABC, abstractmethod"
   ]
  },
  {
   "cell_type": "code",
   "execution_count": 2,
   "id": "cf0f22f4-fd16-4856-b464-941bff591e18",
   "metadata": {},
   "outputs": [],
   "source": [
    "%load_ext autoreload\n",
    "%autoreload 2"
   ]
  },
  {
   "cell_type": "code",
   "execution_count": 3,
   "id": "14ae14af-7d58-47e4-912f-1e2c43ca6e57",
   "metadata": {},
   "outputs": [
    {
     "ename": "ModuleNotFoundError",
     "evalue": "No module named 'loraplan'",
     "output_type": "error",
     "traceback": [
      "\u001b[0;31m---------------------------------------------------------------------------\u001b[0m",
      "\u001b[0;31mModuleNotFoundError\u001b[0m                       Traceback (most recent call last)",
      "Input \u001b[0;32mIn [3]\u001b[0m, in \u001b[0;36m<cell line: 2>\u001b[0;34m()\u001b[0m\n\u001b[1;32m      1\u001b[0m \u001b[38;5;28;01mimport\u001b[39;00m \u001b[38;5;21;01mdistributions\u001b[39;00m \u001b[38;5;28;01mas\u001b[39;00m \u001b[38;5;21;01mdist\u001b[39;00m\n\u001b[0;32m----> 2\u001b[0m \u001b[38;5;28;01mimport\u001b[39;00m \u001b[38;5;21;01minterference\u001b[39;00m \u001b[38;5;28;01mas\u001b[39;00m \u001b[38;5;21;01mfere\u001b[39;00m\n",
      "File \u001b[0;32m~/Desktop/lora-network-planner/src/loraplan/interference.py:22\u001b[0m, in \u001b[0;36m<module>\u001b[0;34m\u001b[0m\n\u001b[1;32m     19\u001b[0m \u001b[38;5;28;01mimport\u001b[39;00m \u001b[38;5;21;01mmatplotlib\u001b[39;00m\u001b[38;5;21;01m.\u001b[39;00m\u001b[38;5;21;01mpyplot\u001b[39;00m \u001b[38;5;28;01mas\u001b[39;00m \u001b[38;5;21;01mplt\u001b[39;00m\n\u001b[1;32m     20\u001b[0m \u001b[38;5;28;01mfrom\u001b[39;00m \u001b[38;5;21;01mmatplotlib\u001b[39;00m \u001b[38;5;28;01mimport\u001b[39;00m collections  \u001b[38;5;28;01mas\u001b[39;00m mc\n\u001b[0;32m---> 22\u001b[0m \u001b[38;5;28;01mfrom\u001b[39;00m \u001b[38;5;21;01mloraplan\u001b[39;00m\u001b[38;5;21;01m.\u001b[39;00m\u001b[38;5;21;01mdistributions\u001b[39;00m \u001b[38;5;28;01mimport\u001b[39;00m maternThinningI\n\u001b[1;32m     26\u001b[0m \u001b[38;5;28;01mdef\u001b[39;00m \u001b[38;5;21mairtime\u001b[39m(payloadSize, sf, bw\u001b[38;5;241m=\u001b[39m\u001b[38;5;241m125\u001b[39m, codingRate\u001b[38;5;241m=\u001b[39m\u001b[38;5;124m'\u001b[39m\u001b[38;5;124m4/5\u001b[39m\u001b[38;5;124m'\u001b[39m,\n\u001b[1;32m     27\u001b[0m             lowDrOptimize\u001b[38;5;241m=\u001b[39m\u001b[38;5;28;01mFalse\u001b[39;00m, explicitHeader\u001b[38;5;241m=\u001b[39m\u001b[38;5;28;01mTrue\u001b[39;00m,\n\u001b[1;32m     28\u001b[0m             preambleLength\u001b[38;5;241m=\u001b[39m\u001b[38;5;241m8\u001b[39m):\n\u001b[1;32m     29\u001b[0m     \u001b[38;5;124;03m\"\"\"\u001b[39;00m\n\u001b[1;32m     30\u001b[0m \u001b[38;5;124;03m    Airtime of LoRa transmission in seconds.\u001b[39;00m\n\u001b[1;32m     31\u001b[0m \n\u001b[0;32m   (...)\u001b[0m\n\u001b[1;32m    107\u001b[0m \u001b[38;5;124;03m    \u001b[39;00m\n\u001b[1;32m    108\u001b[0m \u001b[38;5;124;03m    \"\"\"\u001b[39;00m\n",
      "\u001b[0;31mModuleNotFoundError\u001b[0m: No module named 'loraplan'"
     ]
    }
   ],
   "source": [
    "import distributions as dist\n",
    "import interference as fere"
   ]
  },
  {
   "cell_type": "code",
   "execution_count": null,
   "id": "50f908c8-89b3-4e1a-ab44-db8eef31ae47",
   "metadata": {},
   "outputs": [],
   "source": [
    "# get RNG\n",
    "rng  = np.random.default_rng()"
   ]
  },
  {
   "cell_type": "markdown",
   "id": "ca0ac921",
   "metadata": {},
   "source": [
    "# Time windowns and arrival processes\n",
    "\n",
    "Define a `TimeWindow` over which to sample, and choose an `ArrivalProcess` process over it."
   ]
  },
  {
   "cell_type": "code",
   "execution_count": null,
   "id": "34e2dcc8-e71c-4944-9c06-15a29b6e332d",
   "metadata": {},
   "outputs": [],
   "source": [
    "# make a time window\n",
    "window = dist.TimeWindow(0, 5, buffer=2)\n",
    "\n",
    "# specify arrival process\n",
    "arrivals = dist.PoissonArrivals(window, rate=1.3)\n",
    "\n",
    "print(arrivals)"
   ]
  },
  {
   "cell_type": "code",
   "execution_count": null,
   "id": "12b819d6-853f-4920-93ea-f86b1c7a3c04",
   "metadata": {},
   "outputs": [],
   "source": [
    "# sample arrival times\n",
    "arrs = arrivals.sample(seed=rng)\n",
    "\n",
    "print(arrs)"
   ]
  },
  {
   "cell_type": "markdown",
   "id": "71228a9b-235e-4428-94d0-c1db2eeab5a5",
   "metadata": {},
   "source": [
    "# A parameter colleciton"
   ]
  },
  {
   "cell_type": "code",
   "execution_count": null,
   "id": "14a4fde1-f5c4-40ef-a086-db7a1284c45d",
   "metadata": {},
   "outputs": [],
   "source": [
    "# parameters for a LoRaWAN\n",
    "wan = fere.LoRaParameters()\n",
    "\n",
    "print(wan)"
   ]
  },
  {
   "cell_type": "markdown",
   "id": "6c4b9543",
   "metadata": {},
   "source": [
    "# Example: sampling Traffic"
   ]
  },
  {
   "cell_type": "code",
   "execution_count": null,
   "id": "db6962ed-f1f6-4b04-9843-dc600ed2f33d",
   "metadata": {},
   "outputs": [],
   "source": [
    "# equip arrival times with Traffic parameters\n",
    "nPackets = len(start[0])\n",
    "airtime = rng.uniform(0.1, 0.2, size=nPackets)\n",
    "channel = rng.choice(8, size=nPackets)\n",
    "sf = 7 + rng.choice(4, size=nPackets)\n",
    "power = rng.normal(loc=-90, scale=10, size=nPackets)\n",
    "\n",
    "# make traffic object\n",
    "traffic = fere.Traffic(nPackets, start[0], airtime,\n",
    "                      channel, sf, power)\n",
    "\n",
    "print(traffic)"
   ]
  },
  {
   "cell_type": "markdown",
   "id": "615a1820",
   "metadata": {},
   "source": [
    "## Network - A Traffic Generating Process\n",
    "\n",
    "We keep the `LoRaWAN` class.\n",
    "\n",
    "Distributionally-equipped traffic-generating networks are children!\n",
    "- Distribution over channels.\n",
    "- Distribution over SFs.\n",
    "- Distribution over payloads(s)"
   ]
  },
  {
   "cell_type": "code",
   "execution_count": null,
   "id": "bdc711cd",
   "metadata": {},
   "outputs": [],
   "source": [
    "# make LoRaParameters instance\n",
    "myLoRaWAN = fere.LoRaParameters(nChannels=4)\n",
    "print(myLoRaWAN)"
   ]
  },
  {
   "cell_type": "markdown",
   "id": "48bea44a-b4bb-4db2-88ce-3d064122add4",
   "metadata": {},
   "source": [
    "# Traffic Generators"
   ]
  },
  {
   "cell_type": "code",
   "execution_count": null,
   "id": "f9f2337a",
   "metadata": {},
   "outputs": [],
   "source": [
    "class TrafficGenerator(ABC):\n",
    "    \"\"\"\n",
    "    Class of traffic-generating objects.\n",
    "    \n",
    "    ``TrafficGenerators`` are compositions of objects. A typical generator\n",
    "    takes an ``ArrivalProcess`` and a ``ParameterDistribution``.\n",
    "    ``Traffic``-objects are generated by sampling arrivals and equipping\n",
    "    these with sampled parameters. Dependence between arrivals and\n",
    "    parameters should also be supported.\n",
    "    \"\"\"\n",
    "    \n",
    "    @abstractmethod\n",
    "    def sample(self, seed=None, *args):\n",
    "    \n",
    "    \n",
    "    def __call__(self, seed=None, *args):\n",
    "        \"\"\"Sample traffic.\n",
    "        \"\"\"\n",
    "        self.sample(seed=None, *args)\n",
    "\n",
    "        \n",
    "class IndependentTraffic(TrafficGenerator):\n",
    "    \"\"\"A class for LoRa traffic generation.\n",
    "    independent sampling of wireless parameters.\n",
    "    \n",
    "    Attributes\n",
    "    ----------\n",
    "    \n",
    "    arrivals : ArrivalProcess\n",
    "        An arrival process from ``loraplan.distributions``.\n",
    "    parameters : ParameterDistribution\n",
    "        A distribution over wireless parameters.\n",
    "    \"\"\"\n",
    "    def __init__(self, arrivals=None, paramDist=None, loraParams=None):\n",
    "        \"\"\"\n",
    "        Instantiate an independent LoRa traffic generator object.\n",
    "\n",
    "        Parameters\n",
    "        ----------\n",
    "        arrivals : ArrivalProcess\n",
    "            An arrival process describing for sampling nPackets and arrival times.\n",
    "\n",
    "        paramDist : parameterDistribution\n",
    "            A distribution from which to sample LoRa\n",
    "            \n",
    "        loraParams: LoRaWANParameters, optional\n",
    "            A parameter object against which to verify validity of distributions.\n",
    "        \"\"\"\n",
    "        \n",
    "        self.arrivals = arrivalProcess\n",
    "        self.parameters = paramDist\n",
    "        \n",
    "    def __call__(self, seed=None):\n",
    "        pass"
   ]
  },
  {
   "cell_type": "code",
   "execution_count": null,
   "id": "8df226e3",
   "metadata": {},
   "outputs": [],
   "source": []
  },
  {
   "cell_type": "code",
   "execution_count": null,
   "id": "1ce3c131",
   "metadata": {},
   "outputs": [],
   "source": []
  },
  {
   "cell_type": "markdown",
   "id": "154c507b",
   "metadata": {},
   "source": [
    "## Parameter Distribution"
   ]
  },
  {
   "cell_type": "code",
   "execution_count": null,
   "id": "9bb9b1c8",
   "metadata": {},
   "outputs": [],
   "source": [
    "class Distribution(ABC):\n",
    "    \"\"\"\n",
    "    Class for custom made probability distributions.\n",
    "    \n",
    "    Allows attaching parameters and a seed to the distribution instance\n",
    "    so as to streamline object compositions using ``Distribution``-objects.\n",
    "    \n",
    "    Notes\n",
    "    -----\n",
    "    The `__call__` function is used for sampling.\n",
    "    The parameters and defaults should be explicit.\n",
    "    Each distribution uses a `numpy.random.generator`,\n",
    "    and should accept and optional `seed` to which\n",
    "    a `seed` string or a `numpy.random.generator` can be\n",
    "    passed.\n",
    "    \n",
    "    \"\"\"\n",
    "    \n",
    "    @classmethod\n",
    "    def __call__(self):\n",
    "        pass"
   ]
  },
  {
   "cell_type": "code",
   "execution_count": null,
   "id": "2e71cef5",
   "metadata": {},
   "outputs": [],
   "source": [
    "class Normal(Distribution):\n",
    "    \"\"\"A normal distribution.\n",
    "    \"\"\"\n",
    "    \n",
    "    def __init__(self, loc=0, scale=1, seed=None):\n",
    "        \"\"\"Instantiate normal distribution.\n",
    "        \"\"\"\n",
    "        self.loc = loc\n",
    "        self.scale = scale\n",
    "        self.seed = seed\n",
    "        \n",
    "    def __repr__(self):\n",
    "        return \"Normal(%s)\" % str(self.__dict__) \n",
    "        \n",
    "        \n",
    "    def __call__(self, size=None, *, loc=None, scale=None, seed=None):\n",
    "        \"\"\"\n",
    "        Sample of independent univariate normal random variables.\n",
    "        \n",
    "        Parameters\n",
    "        ----------\n",
    "        \n",
    "        loc : float or array_like\n",
    "            Location parameter(s)\n",
    "        scale : float or array_like\n",
    "            Scale parameter(s)\n",
    "        size : int or tuple of ints\n",
    "            Size of sample\n",
    "        seed : int, optional\n",
    "            A seed to override the Distribution's internal seed.\n",
    "        \n",
    "        Returns\n",
    "        -------\n",
    "        A normal sample of given size.\n",
    "            \n",
    "        See Also\n",
    "        --------\n",
    "        numpy.random.normal\n",
    "        \"\"\" \n",
    "        if loc is None:\n",
    "            loc = self.loc\n",
    "        if scale is None:\n",
    "            scale = self.scale\n",
    "        \n",
    "        # override self.seed if provided\n",
    "        if not seed:\n",
    "            seed = self.seed\n",
    "        rng = np.random.default_rng(seed)\n",
    "        \n",
    "        \n",
    "        return rng.normal(loc=loc, scale=scale, size=size)"
   ]
  },
  {
   "cell_type": "code",
   "execution_count": null,
   "id": "2b5231ba",
   "metadata": {},
   "outputs": [],
   "source": [
    "# demo of Normals\n",
    "norm1 = Normal(seed=rng)\n",
    "norm2 = Normal(loc=10, scale=5)\n",
    "print(norm1)\n",
    "print(norm2)"
   ]
  },
  {
   "cell_type": "code",
   "execution_count": null,
   "id": "fdad2aa3-506d-4658-9224-e23d2812c57e",
   "metadata": {},
   "outputs": [],
   "source": []
  },
  {
   "cell_type": "code",
   "execution_count": null,
   "id": "79fffc92",
   "metadata": {},
   "outputs": [],
   "source": []
  },
  {
   "cell_type": "code",
   "execution_count": null,
   "id": "562cb23a",
   "metadata": {},
   "outputs": [],
   "source": [
    "class WirelessDistribution(ABC):\n",
    "    \"\"\"\n",
    "    A distribution over wireless parameters.\n",
    "    \n",
    "    Attributes\n",
    "    ----------\n",
    "    \n",
    "    Notes\n",
    "    -----\n",
    "    \n",
    "    This class models any distribution over wireless\n",
    "    parameters, conditional on arrivals. I.e. the\n",
    "    number of packets and their arrival times.\n",
    "    \"\"\"\n",
    "    \n",
    "    @classmethod\n",
    "    def sample(self):\n",
    "        pass    "
   ]
  },
  {
   "cell_type": "code",
   "execution_count": null,
   "id": "d202d0ea",
   "metadata": {},
   "outputs": [],
   "source": [
    "class Independent(WirelessDistribution):\n",
    "    \"\"\"\n",
    "    A distribution over LoRa Tx parameters in which\n",
    "    each type of parameter are mutuall independent.\n",
    "    \n",
    "    Attributes\n",
    "    ----------\n",
    "    payloadDist\n",
    "        A distribution over payloads.\n",
    "    channelDist\n",
    "        A distribution over channels.\n",
    "    spreadingDidst\n",
    "        A distribution over spreading factors.\n",
    "    powerDist\n",
    "        A distribution over power.\n",
    "    \"\"\"\n",
    "    \n",
    "    \n",
    "    "
   ]
  },
  {
   "cell_type": "code",
   "execution_count": null,
   "id": "237b59e2",
   "metadata": {},
   "outputs": [],
   "source": []
  },
  {
   "cell_type": "code",
   "execution_count": null,
   "id": "562bc262",
   "metadata": {},
   "outputs": [],
   "source": [
    "class LoRaProcess():\n",
    "    \"\"\"\n",
    "    A traffic-generating process.\n",
    "    \n",
    "    Attributes\n",
    "    ----------\n",
    "    network : LoRaWAN\n",
    "        A LoRaWAN specifying wireless parameters of traffic.\n",
    "    arrivals : ArrivalProcess\n",
    "        Arrival process of wireless traffic.\n",
    "    paramDist\n",
    "        A distribution over network parameters.\n",
    "        \n",
    "    Notes\n",
    "    -----\n",
    "    This is a data-generating process. The main purpose of the class\n",
    "    is to collect all relevant components in one place.\n",
    "    \n",
    "    A general `paramDist` is prefered over a distribution over individual\n",
    "    wireless parameters, as the more general distribution permits\n",
    "    arbitrary joint distrtibutions over groups of parameters. E.g. when\n",
    "    power and SF are correlated.\n",
    "    \"\"\"\n",
    "    \n",
    "    def __init__(self):\n",
    "        \"\"\"\n",
    "        Instantiate LoRaProcess.\n",
    "        \"\"\"\n",
    "        "
   ]
  },
  {
   "cell_type": "code",
   "execution_count": null,
   "id": "124cf2e3",
   "metadata": {},
   "outputs": [],
   "source": [
    "def "
   ]
  }
 ],
 "metadata": {
  "kernelspec": {
   "display_name": "Python (lora)",
   "language": "python",
   "name": "lora"
  },
  "language_info": {
   "codemirror_mode": {
    "name": "ipython",
    "version": 3
   },
   "file_extension": ".py",
   "mimetype": "text/x-python",
   "name": "python",
   "nbconvert_exporter": "python",
   "pygments_lexer": "ipython3",
   "version": "3.10.4"
  },
  "latex_envs": {
   "LaTeX_envs_menu_present": true,
   "autoclose": true,
   "autocomplete": true,
   "bibliofile": "biblio.bib",
   "cite_by": "apalike",
   "current_citInitial": 1,
   "eqLabelWithNumbers": true,
   "eqNumInitial": 1,
   "hotkeys": {
    "equation": "Ctrl-E",
    "itemize": "Ctrl-I"
   },
   "labels_anchors": false,
   "latex_user_defs": false,
   "report_style_numbering": false,
   "user_envs_cfg": false
  }
 },
 "nbformat": 4,
 "nbformat_minor": 5
}
