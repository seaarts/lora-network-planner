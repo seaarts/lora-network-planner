{
 "cells": [
  {
   "cell_type": "code",
   "execution_count": 55,
   "id": "90b835e7-efb9-4e12-a9d0-c0d4788baff7",
   "metadata": {},
   "outputs": [],
   "source": [
    "import numpy as np\n",
    "from abc import ABC, abstractmethod\n",
    "from dataclasses import dataclass"
   ]
  },
  {
   "cell_type": "code",
   "execution_count": 2,
   "id": "cf0f22f4-fd16-4856-b464-941bff591e18",
   "metadata": {},
   "outputs": [],
   "source": [
    "%load_ext autoreload\n",
    "%autoreload 2"
   ]
  },
  {
   "cell_type": "code",
   "execution_count": 99,
   "id": "5084f364-ba63-47dd-9abc-e9706d9f29f2",
   "metadata": {},
   "outputs": [],
   "source": [
    "import models as mod"
   ]
  },
  {
   "cell_type": "code",
   "execution_count": 25,
   "id": "50f908c8-89b3-4e1a-ab44-db8eef31ae47",
   "metadata": {},
   "outputs": [],
   "source": [
    "# get RNG\n",
    "rng  = np.random.default_rng()"
   ]
  },
  {
   "cell_type": "code",
   "execution_count": 93,
   "id": "34e2dcc8-e71c-4944-9c06-15a29b6e332d",
   "metadata": {},
   "outputs": [
    {
     "name": "stdout",
     "output_type": "stream",
     "text": [
      "HomogeneousPoissonProcess(TimeWindow(0, 5, buffer=2), rate=1.2)\n"
     ]
    }
   ],
   "source": [
    "# make a time window\n",
    "window = mod.TimeWindow(0, 5, 2)\n",
    "\n",
    "# specify arrival process\n",
    "arrivals = mod.PoissonProcess(window, rate=1.2)\n",
    "\n",
    "print(arrivals)"
   ]
  },
  {
   "cell_type": "code",
   "execution_count": 94,
   "id": "12b819d6-853f-4920-93ea-f86b1c7a3c04",
   "metadata": {},
   "outputs": [
    {
     "name": "stdout",
     "output_type": "stream",
     "text": [
      "[array([ 5.33165456,  2.97960692,  1.1213358 , -1.56133218,  1.41054714,\n",
      "        5.46749215,  1.35826152])]\n"
     ]
    }
   ],
   "source": [
    "# sample arrival times\n",
    "start = arrivals.sample(1, seed=rng)\n",
    "\n",
    "print(start)"
   ]
  },
  {
   "cell_type": "code",
   "execution_count": 95,
   "id": "0e13be1a-323a-46d3-a054-d7b21af536d4",
   "metadata": {},
   "outputs": [],
   "source": [
    "class Traffic():\n",
    "    \"\"\"\n",
    "    A collcetions of LoRa wireless traffic.\n",
    "    \n",
    "    Attributes\n",
    "    ----------\n",
    "    nPackets : int\n",
    "        Number of packets in traffic instance.\n",
    "    start : array-like of float\n",
    "        Start times of packets.\n",
    "    airtime : array-like of float\n",
    "        Time-on-air of packets.\n",
    "    channel : array-like of int\n",
    "        Channels of packets.\n",
    "    sf : array-like of int\n",
    "        Spreading factors of packets.\n",
    "    power : array-like of float\n",
    "        Power of packets.\n",
    "        This can be taken to be either transmitted or received\n",
    "        power (usually dBm), depending on context. \n",
    "\n",
    "    Notes\n",
    "    -----\n",
    "    A Traffic object represents a collection of LoRa\n",
    "    transmissions, each with associated parameters.\n",
    "\n",
    "    We take these to represent the packets as observed by\n",
    "    a receiver. Parameters related to transmission rather\n",
    "    that reception e.g. transmitted power, are not relevant.\n",
    "    Instead, factors related to reception and possible failure\n",
    "    thereof are mandatory. These include:\n",
    "        - Start times\n",
    "        - Time on air\n",
    "        - Channel\n",
    "        - SF\n",
    "        - (Received) power\n",
    "\n",
    "    More variables may be added. The main idea is that any\n",
    "    CollisionModel can process LoRaTraffic instances and form\n",
    "    predictions over successful receptions.\n",
    "    \"\"\"\n",
    "\n",
    "    def __init__(self, nPackets, start, airtime,\n",
    "                 channel, sf, power):\n",
    "        \"\"\"\n",
    "        Initialize LoRa traffic instance.\n",
    "\n",
    "        Parameters\n",
    "        ----------\n",
    "\n",
    "        nPackets : int\n",
    "            Number of transmissions (packets).\n",
    "\n",
    "        start : float or array_like\n",
    "            Start times of packets; shape = (nPakets, ).\n",
    "\n",
    "        airtime : float or array_like\n",
    "            Airtimes of packets; shape = (nPackets, ).\n",
    "\n",
    "        channel : int or array_like\n",
    "            Channels of packets, shape = (nPackets, ).\n",
    "\n",
    "        sf : int or array_like\n",
    "            Spreading factors; of packets shape (nPackets, ).\n",
    "\n",
    "        power : float or  array_like\n",
    "             Powers (dBm) of packets; shape (nPackets, ).\n",
    "\n",
    "        \"\"\"\n",
    "        \n",
    "        self.nObs = nPackets\n",
    "        self.start = start\n",
    "        self.airtime = airtime\n",
    "        self.channel = channel\n",
    "        self.sf = sf\n",
    "        self.power = power\n",
    "    \n",
    "    \n",
    "    def __repr__(self):\n",
    "        return f\"Traffic(nPackets={self.nObs})\""
   ]
  },
  {
   "cell_type": "code",
   "execution_count": 96,
   "id": "db6962ed-f1f6-4b04-9843-dc600ed2f33d",
   "metadata": {},
   "outputs": [],
   "source": [
    "# make Traffic object\n",
    "nPackets = len(start[0])\n",
    "airtime = rng.uniform(0.1, 0.2, size=nPackets)\n",
    "channel = rng.choice(8, size=nPackets)\n",
    "sf = 7 + rng.choice(4, size=nPackets)\n",
    "power = rng.normal(loc=-90, scale=10, size=nPackets)"
   ]
  },
  {
   "cell_type": "code",
   "execution_count": 100,
   "id": "98cfa5b8-9c56-46d2-bfae-120fd5e1bd67",
   "metadata": {},
   "outputs": [],
   "source": [
    "traffic = mod.Traffic(nPackets,\n",
    "                      start,\n",
    "                      airtime,\n",
    "                      channel,\n",
    "                      sf,\n",
    "                      power)"
   ]
  },
  {
   "cell_type": "code",
   "execution_count": 102,
   "id": "b58b4f1f-be31-4c28-a8a3-88741da13e04",
   "metadata": {},
   "outputs": [
    {
     "data": {
      "text/plain": [
       "Traffic(nPackets=7)"
      ]
     },
     "execution_count": 102,
     "metadata": {},
     "output_type": "execute_result"
    }
   ],
   "source": [
    "traffic"
   ]
  },
  {
   "cell_type": "code",
   "execution_count": null,
   "id": "0102fedc-0520-4eac-8219-a1536ef83175",
   "metadata": {},
   "outputs": [],
   "source": []
  }
 ],
 "metadata": {
  "kernelspec": {
   "display_name": "Python (lora)",
   "language": "python",
   "name": "lora"
  },
  "language_info": {
   "codemirror_mode": {
    "name": "ipython",
    "version": 3
   },
   "file_extension": ".py",
   "mimetype": "text/x-python",
   "name": "python",
   "nbconvert_exporter": "python",
   "pygments_lexer": "ipython3",
   "version": "3.10.4"
  }
 },
 "nbformat": 4,
 "nbformat_minor": 5
}
