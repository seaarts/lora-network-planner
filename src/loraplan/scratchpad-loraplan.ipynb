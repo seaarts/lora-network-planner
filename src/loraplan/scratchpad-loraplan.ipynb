{
 "cells": [
  {
   "cell_type": "code",
   "execution_count": 94,
   "id": "90b835e7-efb9-4e12-a9d0-c0d4788baff7",
   "metadata": {},
   "outputs": [],
   "source": [
    "import numpy as np\n",
    "from abc import ABC, abstractmethod\n",
    "from dataclasses import dataclass"
   ]
  },
  {
   "cell_type": "code",
   "execution_count": 95,
   "id": "cf0f22f4-fd16-4856-b464-941bff591e18",
   "metadata": {},
   "outputs": [
    {
     "name": "stdout",
     "output_type": "stream",
     "text": [
      "The autoreload extension is already loaded. To reload it, use:\n",
      "  %reload_ext autoreload\n"
     ]
    }
   ],
   "source": [
    "%load_ext autoreload\n",
    "%autoreload 2"
   ]
  },
  {
   "cell_type": "code",
   "execution_count": 96,
   "id": "5084f364-ba63-47dd-9abc-e9706d9f29f2",
   "metadata": {},
   "outputs": [],
   "source": [
    "import models as mod\n",
    "import points as pts"
   ]
  },
  {
   "cell_type": "code",
   "execution_count": 97,
   "id": "50f908c8-89b3-4e1a-ab44-db8eef31ae47",
   "metadata": {},
   "outputs": [],
   "source": [
    "# get RNG\n",
    "rng  = np.random.default_rng()"
   ]
  },
  {
   "cell_type": "markdown",
   "id": "f991b577",
   "metadata": {},
   "source": [
    "## Point processes & tools"
   ]
  },
  {
   "cell_type": "code",
   "execution_count": 98,
   "id": "34e2dcc8-e71c-4944-9c06-15a29b6e332d",
   "metadata": {},
   "outputs": [
    {
     "name": "stdout",
     "output_type": "stream",
     "text": [
      "HomogeneousPoissonProcess(TimeWindow(0, 5, buffer=2), rate=0.3)\n"
     ]
    }
   ],
   "source": [
    "# make a time window\n",
    "window = pts.TimeWindow(0, 5, 2)\n",
    "\n",
    "# specify arrival process\n",
    "arrivals = pts.PoissonProcess(window, rate=0.3)\n",
    "\n",
    "print(arrivals)"
   ]
  },
  {
   "cell_type": "code",
   "execution_count": 99,
   "id": "12b819d6-853f-4920-93ea-f86b1c7a3c04",
   "metadata": {},
   "outputs": [
    {
     "name": "stdout",
     "output_type": "stream",
     "text": [
      "[array([-1.99557685,  2.51152366,  5.83633301,  4.00938081, -0.34030414])]\n"
     ]
    }
   ],
   "source": [
    "# sample arrival times\n",
    "start = arrivals.sample(1, seed=rng)\n",
    "\n",
    "print(start)"
   ]
  },
  {
   "cell_type": "markdown",
   "id": "ae9f1aff",
   "metadata": {},
   "source": [
    "## WirelessTraffic"
   ]
  },
  {
   "cell_type": "code",
   "execution_count": 100,
   "id": "db6962ed-f1f6-4b04-9843-dc600ed2f33d",
   "metadata": {},
   "outputs": [
    {
     "name": "stdout",
     "output_type": "stream",
     "text": [
      "Traffic(nPackets=5)\n"
     ]
    }
   ],
   "source": [
    "# sample Traffic parameters\n",
    "nPackets = len(start[0])\n",
    "airtime = rng.uniform(0.1, 0.2, size=nPackets)\n",
    "channel = rng.choice(8, size=nPackets)\n",
    "sf = 7 + rng.choice(4, size=nPackets)\n",
    "power = rng.normal(loc=-90, scale=10, size=nPackets)\n",
    "\n",
    "# make traffic object\n",
    "traffic = mod.Traffic(nPackets, start[0], airtime,\n",
    "                      channel, sf, power\n",
    "                     )\n",
    "\n",
    "print(traffic)"
   ]
  },
  {
   "cell_type": "markdown",
   "id": "c46eca81",
   "metadata": {},
   "source": [
    "## Network - A Traffic Generating Process\n",
    "\n",
    "We can still keep the `LoRaWAN` class, just equip it with some distributions. These distributions should be customizable.\n",
    "- Distribution over channels.\n",
    "- Distribution over SFs.\n",
    "- Distribution over payloads (s)"
   ]
  },
  {
   "cell_type": "code",
   "execution_count": null,
   "id": "e8f614b2",
   "metadata": {},
   "outputs": [],
   "source": [
    "still want a LoRaWAN just with "
   ]
  },
  {
   "cell_type": "markdown",
   "id": "ec506b84",
   "metadata": {},
   "source": [
    "# A Network class"
   ]
  },
  {
   "cell_type": "code",
   "execution_count": 123,
   "id": "5bb3088e",
   "metadata": {},
   "outputs": [
    {
     "name": "stdout",
     "output_type": "stream",
     "text": [
      "A LoRaWAN object with params:\n",
      "\t nChannels: 1\n",
      "\t freq: 915\n",
      "\t bw: 125\n",
      "\t sf: [7, 8, 9, 10]\n",
      "\t overhead: 13\n",
      "\t dwellTime: 400\n",
      "\t dutyCycle: None\n"
     ]
    }
   ],
   "source": [
    "WAN = mod.LoRaWAN()\n",
    "\n",
    "print(WAN)"
   ]
  },
  {
   "cell_type": "code",
   "execution_count": 126,
   "id": "a8b8f5c1",
   "metadata": {},
   "outputs": [
    {
     "data": {
      "text/plain": [
       "LoRaWAN({'nChannels': 1, 'freq': 915, 'bw': 125, 'sf': [7, 8, 9, 10], 'overhead': 13, 'dwellTime': 400, 'dutyCycle': None})"
      ]
     },
     "execution_count": 126,
     "metadata": {},
     "output_type": "execute_result"
    }
   ],
   "source": [
    "WAN"
   ]
  },
  {
   "cell_type": "markdown",
   "id": "95aaa76c",
   "metadata": {},
   "source": [
    "## Parameter Distribution"
   ]
  },
  {
   "cell_type": "code",
   "execution_count": 107,
   "id": "3002e8a3",
   "metadata": {},
   "outputs": [],
   "source": [
    "class distribution(ABC):\n",
    "    \"\"\"\n",
    "    Class for custom made probability distributions.\n",
    "    \n",
    "    Notes\n",
    "    -----\n",
    "    \n",
    "    The `__call__` function is used for sampling.\n",
    "    The parameters and defaults should be explicit.\n",
    "    Each distribution uses a `numpy.random.generator`,\n",
    "    and should accept and optional `seed` to which\n",
    "    a `seed` string or a `numpy.random.generator` can be\n",
    "    passed.\n",
    "    \n",
    "    \"\"\"\n",
    "    \n",
    "    @classmethod\n",
    "    def __call__(self):\n",
    "        pass"
   ]
  },
  {
   "cell_type": "code",
   "execution_count": 117,
   "id": "f46882b7",
   "metadata": {},
   "outputs": [],
   "source": [
    "class Normal(distribution):\n",
    "    \"\"\"A normal distribution.\n",
    "    \"\"\"\n",
    "    \n",
    "    def __init__(self, loc=0, scale=1):\n",
    "        \"\"\"Instantiate normal distribution.\n",
    "        \"\"\"\n",
    "        self.loc = loc\n",
    "        self.scale = scale\n",
    "        \n",
    "    def __repr__(self):\n",
    "        return \"Normal(%s)\" % str(self.__dict__) \n",
    "        \n",
    "        \n",
    "    def __call__(self, loc=None, scale=None, size=None, seed=None):\n",
    "        \"\"\"\n",
    "        Generate a sample of normals.\n",
    "        \"\"\" \n",
    "        if loc is None:\n",
    "            loc = self.loc\n",
    "        if scale is None:\n",
    "            scale = self.scale\n",
    "            \n",
    "        rng = np.random.default_rng(seed)\n",
    "        \n",
    "        return rng.normal(loc=loc, scale=scale, size=size)"
   ]
  },
  {
   "cell_type": "code",
   "execution_count": 127,
   "id": "0dd3f3e0",
   "metadata": {},
   "outputs": [],
   "source": [
    "norm = Normal()"
   ]
  },
  {
   "cell_type": "code",
   "execution_count": 129,
   "id": "a899634a",
   "metadata": {},
   "outputs": [
    {
     "data": {
      "text/plain": [
       "12.587114033153227"
      ]
     },
     "execution_count": 129,
     "metadata": {},
     "output_type": "execute_result"
    }
   ],
   "source": [
    "norm(loc=10, scale=5)"
   ]
  },
  {
   "cell_type": "code",
   "execution_count": 122,
   "id": "9113bf74",
   "metadata": {},
   "outputs": [],
   "source": [
    "class WirelessDistribution(ABC):\n",
    "    \"\"\"\n",
    "    A distribution over wireless parameters.\n",
    "    \n",
    "    Attributes\n",
    "    ----------\n",
    "    \n",
    "    Notes\n",
    "    -----\n",
    "    \n",
    "    This class models any distribution over wireless\n",
    "    parameters, conditional on arrivals. I.e. the\n",
    "    number of packets and their arrival times.\n",
    "    \"\"\"\n",
    "    \n",
    "    @classmethod\n",
    "    def sample(self):\n",
    "        pass    "
   ]
  },
  {
   "cell_type": "code",
   "execution_count": 106,
   "id": "c48dacc9",
   "metadata": {},
   "outputs": [],
   "source": [
    "class Independent(WirelessDistribution):\n",
    "    \"\"\"\n",
    "    A distribution over LoRa Tx parameters in which\n",
    "    each type of parameter are mutuall independent.\n",
    "    \n",
    "    Attributes\n",
    "    ----------\n",
    "    payloadDist\n",
    "        A distribution over payloads.\n",
    "    channelDist\n",
    "        A distribution over channels.\n",
    "    spreadingDidst\n",
    "        A distribution over spreading factors.\n",
    "    powerDist\n",
    "        A distribution over power.\n",
    "    \"\"\"\n",
    "    \n",
    "    \n",
    "    "
   ]
  },
  {
   "cell_type": "code",
   "execution_count": null,
   "id": "3c01f155",
   "metadata": {},
   "outputs": [],
   "source": []
  },
  {
   "cell_type": "code",
   "execution_count": 30,
   "id": "364f1da0",
   "metadata": {},
   "outputs": [],
   "source": [
    "class LoRaProcess():\n",
    "    \"\"\"\n",
    "    A traffic-generating process.\n",
    "    \n",
    "    Attributes\n",
    "    ----------\n",
    "    network : LoRaWAN\n",
    "        A LoRaWAN specifying wireless parameters of traffic.\n",
    "    arrivals : ArrivalProcess\n",
    "        Arrival process of wireless traffic.\n",
    "    paramDist\n",
    "        A distribution over network parameters.\n",
    "        \n",
    "    Notes\n",
    "    -----\n",
    "    This is a data-generating process. The main purpose of the class\n",
    "    is to collect all relevant components in one place.\n",
    "    \n",
    "    A general `paramDist` is prefered over a distribution over individual\n",
    "    wireless parameters, as the more general distribution permits\n",
    "    arbitrary joint distrtibutions over groups of parameters. E.g. when\n",
    "    power and SF are correlated.\n",
    "    \"\"\"\n",
    "    \n",
    "    def __init__(self):\n",
    "        \"\"\"\n",
    "        Instantiate LoRaProcess.\n",
    "        \"\"\"\n",
    "        "
   ]
  },
  {
   "cell_type": "code",
   "execution_count": null,
   "id": "6169a555",
   "metadata": {},
   "outputs": [],
   "source": []
  }
 ],
 "metadata": {
  "kernelspec": {
   "display_name": "Python (lora)",
   "language": "python",
   "name": "lora"
  },
  "language_info": {
   "codemirror_mode": {
    "name": "ipython",
    "version": 3
   },
   "file_extension": ".py",
   "mimetype": "text/x-python",
   "name": "python",
   "nbconvert_exporter": "python",
   "pygments_lexer": "ipython3",
   "version": "3.10.4"
  },
  "latex_envs": {
   "LaTeX_envs_menu_present": true,
   "autoclose": true,
   "autocomplete": true,
   "bibliofile": "biblio.bib",
   "cite_by": "apalike",
   "current_citInitial": 1,
   "eqLabelWithNumbers": true,
   "eqNumInitial": 1,
   "hotkeys": {
    "equation": "Ctrl-E",
    "itemize": "Ctrl-I"
   },
   "labels_anchors": false,
   "latex_user_defs": false,
   "report_style_numbering": false,
   "user_envs_cfg": false
  }
 },
 "nbformat": 4,
 "nbformat_minor": 5
}
