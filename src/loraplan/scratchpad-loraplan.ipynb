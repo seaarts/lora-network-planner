{
 "cells": [
  {
   "cell_type": "code",
   "execution_count": 12,
   "id": "90b835e7-efb9-4e12-a9d0-c0d4788baff7",
   "metadata": {},
   "outputs": [],
   "source": [
    "import numpy as np\n",
    "from abc import ABC, abstractmethod"
   ]
  },
  {
   "cell_type": "code",
   "execution_count": 64,
   "id": "cf0f22f4-fd16-4856-b464-941bff591e18",
   "metadata": {},
   "outputs": [
    {
     "name": "stdout",
     "output_type": "stream",
     "text": [
      "The autoreload extension is already loaded. To reload it, use:\n",
      "  %reload_ext autoreload\n"
     ]
    }
   ],
   "source": [
    "%load_ext autoreload\n",
    "%autoreload 2"
   ]
  },
  {
   "cell_type": "code",
   "execution_count": 75,
   "id": "14ae14af-7d58-47e4-912f-1e2c43ca6e57",
   "metadata": {},
   "outputs": [],
   "source": [
    "import distributions as dist\n",
    "import interference as fere"
   ]
  },
  {
   "cell_type": "code",
   "execution_count": 76,
   "id": "50f908c8-89b3-4e1a-ab44-db8eef31ae47",
   "metadata": {},
   "outputs": [],
   "source": [
    "# get RNG\n",
    "rng  = np.random.default_rng()"
   ]
  },
  {
   "cell_type": "markdown",
   "id": "ca0ac921",
   "metadata": {},
   "source": [
    "# Time windowns and arrival processes\n",
    "\n",
    "Define a `TimeWindow` over which to sample, and choose an `ArrivalProcess` process over it."
   ]
  },
  {
   "cell_type": "code",
   "execution_count": 77,
   "id": "34e2dcc8-e71c-4944-9c06-15a29b6e332d",
   "metadata": {},
   "outputs": [
    {
     "name": "stdout",
     "output_type": "stream",
     "text": [
      "HomogeneousPoissonArrivals(TimeWindow(0, 5, buffer=2), rate=1.3)\n"
     ]
    }
   ],
   "source": [
    "# make a time window\n",
    "window = dist.TimeWindow(0, 5, buffer=2)\n",
    "\n",
    "# specify arrival process\n",
    "arrivals = dist.PoissonArrivals(window, rate=1.3)\n",
    "\n",
    "print(arrivals)"
   ]
  },
  {
   "cell_type": "code",
   "execution_count": 78,
   "id": "12b819d6-853f-4920-93ea-f86b1c7a3c04",
   "metadata": {},
   "outputs": [
    {
     "name": "stdout",
     "output_type": "stream",
     "text": [
      "[array([ 6.15547068,  3.12258447, -0.6855643 ,  4.78744768, -0.28842455,\n",
      "        3.34130541, -0.99149267,  5.55708456, -1.05623254,  4.11999951])]\n"
     ]
    }
   ],
   "source": [
    "# sample arrival times\n",
    "arrs = arrivals.sample(seed=rng)\n",
    "\n",
    "print(arrs)"
   ]
  },
  {
   "cell_type": "markdown",
   "id": "71228a9b-235e-4428-94d0-c1db2eeab5a5",
   "metadata": {},
   "source": [
    "# A parameter colleciton"
   ]
  },
  {
   "cell_type": "code",
   "execution_count": 79,
   "id": "14a4fde1-f5c4-40ef-a086-db7a1284c45d",
   "metadata": {},
   "outputs": [
    {
     "name": "stdout",
     "output_type": "stream",
     "text": [
      "A LoRa Parameters object with params:\n",
      "\t nChannels: 1\n",
      "\t freq: 915\n",
      "\t bw: 125\n",
      "\t sf: [7, 8, 9, 10]\n",
      "\t overhead: 13\n",
      "\t maxPow: 30\n",
      "\t dwellTime: 400\n",
      "\t dutyCycle: None\n"
     ]
    }
   ],
   "source": [
    "# parameters for a LoRaWAN\n",
    "wan = fere.LoRaParameters()\n",
    "\n",
    "print(wan)"
   ]
  },
  {
   "cell_type": "markdown",
   "id": "6c4b9543",
   "metadata": {},
   "source": [
    "# Example: sampling Traffic"
   ]
  },
  {
   "cell_type": "code",
   "execution_count": 80,
   "id": "db6962ed-f1f6-4b04-9843-dc600ed2f33d",
   "metadata": {},
   "outputs": [
    {
     "name": "stdout",
     "output_type": "stream",
     "text": [
      "Traffic(nObs=11)\n"
     ]
    }
   ],
   "source": [
    "# equip arrival times with Traffic parameters\n",
    "nPackets = len(start[0])\n",
    "airtime = rng.uniform(0.1, 0.2, size=nPackets)\n",
    "channel = rng.choice(8, size=nPackets)\n",
    "sf = 7 + rng.choice(4, size=nPackets)\n",
    "power = rng.normal(loc=-90, scale=10, size=nPackets)\n",
    "\n",
    "# make traffic object\n",
    "traffic = fere.Traffic(nPackets, start[0], airtime,\n",
    "                      channel, sf, power)\n",
    "\n",
    "print(traffic)"
   ]
  },
  {
   "cell_type": "markdown",
   "id": "615a1820",
   "metadata": {},
   "source": [
    "## Network - A Traffic Generating Process\n",
    "\n",
    "We keep the `LoRaWAN` class.\n",
    "\n",
    "Distributionally-equipped traffic-generating networks are children!\n",
    "- Distribution over channels.\n",
    "- Distribution over SFs.\n",
    "- Distribution over payloads(s)"
   ]
  },
  {
   "cell_type": "code",
   "execution_count": 108,
   "id": "bfc27d55",
   "metadata": {},
   "outputs": [],
   "source": [
    "class LoRaParameters():\n",
    "    \"\"\"\n",
    "    An object class for LoRa Network Parameters.\n",
    "\n",
    "    Attributes\n",
    "    ---------\n",
    "    nChannels : int\n",
    "        Number of channels permitted.\n",
    "\n",
    "    freq : float\n",
    "        (Central) frequency used by network.\n",
    "\n",
    "    bandwidth : float\n",
    "        Bandwidth of uplink channel.\n",
    "\n",
    "    spreadingFactors : list of int\n",
    "        List of spreading factors allowed on network.\n",
    "\n",
    "    overhead : int\n",
    "        Number of bytes of overhead in payload.\n",
    "        \n",
    "    maxPow : float\n",
    "        Maximum transmitted power (dBm). \n",
    "\n",
    "    dwellTime : float\n",
    "        Maximum permitted dwell time in ms. Use `None` if not restricted.\n",
    "\n",
    "    dutyCycle : float\n",
    "        Maximum duty cycle permitted. Use `None` if not resttrictred.\n",
    "        \n",
    "\n",
    "    Notes\n",
    "    -----\n",
    "    \n",
    "    FUTURE - would be nice to read data from e.g.\n",
    "        https://github.com/TheThingsNetwork/lorawan-frequency-plans\n",
    "\n",
    "    For now parameters are specified manually.\n",
    "\n",
    "    Defaults are for North America ISM band.\n",
    "    \"\"\"\n",
    "\n",
    "    def __init__(self, nChannels=1, freq=915, bandwidth=125,\n",
    "                 spreading=None, overhead=13, maxPow=30,\n",
    "                 dwellTime=400, dutyCycle=None, **kwargs):\n",
    "        \"\"\"\n",
    "        Instantiate LoRaParemeters instance.\n",
    "\n",
    "        Parameters\n",
    "        ----------\n",
    "        nChannels : int\n",
    "            Number of channels permitted.\n",
    "\n",
    "        freq : float\n",
    "            (Central) frequency used by network.\n",
    "\n",
    "        bandwidth : float\n",
    "            Bandwidth of uplink channel.\n",
    "\n",
    "        spreadingFactors : list of int\n",
    "            List of spreading factors allowed on network.\n",
    "\n",
    "        overhead : int\n",
    "            Number of bytes of overhead in payload.\n",
    "        \n",
    "        maxPow : float\n",
    "            Maximum transmitted power (dBm).\n",
    "\n",
    "        dwellTime : float\n",
    "            Maximum permitted dwell time in ms. Use `None` if not restricted.\n",
    "\n",
    "        dutyCycle : float\n",
    "            Maximum duty cycle permitted. Use `None` if not resttrictred.\n",
    "        \"\"\"\n",
    "        \n",
    "        if spreading is None:\n",
    "            spreading = [7, 8, 9, 10]\n",
    "\n",
    "        self.nChannels = nChannels\n",
    "        self.freq = freq\n",
    "        self.bw = bandwidth\n",
    "        self.sf = spreading\n",
    "        self.overhead = overhead\n",
    "        self.maxPow = maxPow\n",
    "        self.dwellTime = dwellTime\n",
    "        self.dutyCycle = dutyCycle\n",
    "\n",
    "    def __repr__(self):\n",
    "        return \"LoRaParameters(%r)\" % self.__dict__\n",
    "\n",
    "    def __str__(self):\n",
    "        out = \"A LoRa Parameters object with params:\"\n",
    "        for k, v in self.__dict__.items():\n",
    "            out += f\"\\n\\t {k}: {v}\"\n",
    "        return out"
   ]
  },
  {
   "cell_type": "code",
   "execution_count": 109,
   "id": "bdc711cd",
   "metadata": {},
   "outputs": [
    {
     "name": "stdout",
     "output_type": "stream",
     "text": [
      "A LoRa Parameters object with params:\n",
      "\t nChannels: 4\n",
      "\t freq: 915\n",
      "\t bw: 125\n",
      "\t sf: [7, 8, 9, 10]\n",
      "\t overhead: 13\n",
      "\t maxPow: 30\n",
      "\t dwellTime: 400\n",
      "\t dutyCycle: None\n"
     ]
    }
   ],
   "source": [
    "# make LoRaParameters instance\n",
    "myLoRaWAN = LoRaParameters(nChannels=4)\n",
    "print(myLoRaWAN)"
   ]
  },
  {
   "cell_type": "markdown",
   "id": "48bea44a-b4bb-4db2-88ce-3d064122add4",
   "metadata": {},
   "source": [
    "# Traffic Generators"
   ]
  },
  {
   "cell_type": "code",
   "execution_count": 105,
   "id": "f9f2337a",
   "metadata": {},
   "outputs": [],
   "source": [
    "class TrafficGenerator(ABC):\n",
    "    \"\"\"\n",
    "    Class of traffic-generating objects.\n",
    "    \n",
    "    Notes\n",
    "    -----\n",
    "    To self: Maybe worth being a generator?\n",
    "    \"\"\"\n",
    "    \n",
    "    @abstractmethod\n",
    "    def __call__(self, seed=None):\n",
    "        \"\"\"\n",
    "        Get a sample.\n",
    "        \"\"\"\n",
    "        \n",
    "class LoRaGeneratorIndep(TrafficGenerator, LoRaParameters):\n",
    "    \"\"\"A class for LoRa traffic generation via\n",
    "    independent sampling of wireless parameters.\n",
    "    \"\"\"\n",
    "        \n",
    "    def __call__(self, seed=None):\n",
    "        pass"
   ]
  },
  {
   "cell_type": "code",
   "execution_count": 106,
   "id": "8b9fd53a",
   "metadata": {},
   "outputs": [],
   "source": [
    "mygen = IndependentLoRaGenerator()"
   ]
  },
  {
   "cell_type": "code",
   "execution_count": 107,
   "id": "4edfdd18",
   "metadata": {},
   "outputs": [
    {
     "data": {
      "text/plain": [
       "LoRaParameters({'nChannels': 1, 'freq': 915, 'bw': 125, 'sf': [7, 8, 9, 10], 'overhead': 13, 'maxPow': 30, 'dwellTime': 400, 'dutyCycle': None})"
      ]
     },
     "execution_count": 107,
     "metadata": {},
     "output_type": "execute_result"
    }
   ],
   "source": [
    "mygen"
   ]
  },
  {
   "cell_type": "code",
   "execution_count": null,
   "id": "7ef6d51a",
   "metadata": {},
   "outputs": [],
   "source": [
    "def func(**kwargs):\n",
    "    "
   ]
  },
  {
   "cell_type": "code",
   "execution_count": null,
   "id": "044744e4",
   "metadata": {},
   "outputs": [],
   "source": []
  },
  {
   "cell_type": "code",
   "execution_count": null,
   "id": "8df226e3",
   "metadata": {},
   "outputs": [],
   "source": []
  },
  {
   "cell_type": "code",
   "execution_count": null,
   "id": "1ce3c131",
   "metadata": {},
   "outputs": [],
   "source": []
  },
  {
   "cell_type": "markdown",
   "id": "154c507b",
   "metadata": {},
   "source": [
    "## Parameter Distribution"
   ]
  },
  {
   "cell_type": "code",
   "execution_count": null,
   "id": "9bb9b1c8",
   "metadata": {},
   "outputs": [],
   "source": [
    "class distribution(ABC):\n",
    "    \"\"\"\n",
    "    Class for custom made probability distributions.\n",
    "    \n",
    "    Notes\n",
    "    -----\n",
    "    \n",
    "    The `__call__` function is used for sampling.\n",
    "    The parameters and defaults should be explicit.\n",
    "    Each distribution uses a `numpy.random.generator`,\n",
    "    and should accept and optional `seed` to which\n",
    "    a `seed` string or a `numpy.random.generator` can be\n",
    "    passed.\n",
    "    \n",
    "    \"\"\"\n",
    "    \n",
    "    @classmethod\n",
    "    def __call__(self):\n",
    "        pass"
   ]
  },
  {
   "cell_type": "code",
   "execution_count": null,
   "id": "2e71cef5",
   "metadata": {},
   "outputs": [],
   "source": [
    "class Normal(distribution):\n",
    "    \"\"\"A normal distribution.\n",
    "    \"\"\"\n",
    "    \n",
    "    def __init__(self, loc=0, scale=1):\n",
    "        \"\"\"Instantiate normal distribution.\n",
    "        \"\"\"\n",
    "        self.loc = loc\n",
    "        self.scale = scale\n",
    "        \n",
    "    def __repr__(self):\n",
    "        return \"Normal(%s)\" % str(self.__dict__) \n",
    "        \n",
    "        \n",
    "    def __call__(self, loc=None, scale=None, size=None, seed=None):\n",
    "        \"\"\"\n",
    "        Generate a sample of normals.\n",
    "        \"\"\" \n",
    "        if loc is None:\n",
    "            loc = self.loc\n",
    "        if scale is None:\n",
    "            scale = self.scale\n",
    "            \n",
    "        rng = np.random.default_rng(seed)\n",
    "        \n",
    "        return rng.normal(loc=loc, scale=scale, size=size)"
   ]
  },
  {
   "cell_type": "code",
   "execution_count": null,
   "id": "2b5231ba",
   "metadata": {},
   "outputs": [],
   "source": [
    "norm = Normal()"
   ]
  },
  {
   "cell_type": "code",
   "execution_count": null,
   "id": "79fffc92",
   "metadata": {},
   "outputs": [],
   "source": [
    "norm(loc=10, scale=5)"
   ]
  },
  {
   "cell_type": "code",
   "execution_count": null,
   "id": "562cb23a",
   "metadata": {},
   "outputs": [],
   "source": [
    "class WirelessDistribution(ABC):\n",
    "    \"\"\"\n",
    "    A distribution over wireless parameters.\n",
    "    \n",
    "    Attributes\n",
    "    ----------\n",
    "    \n",
    "    Notes\n",
    "    -----\n",
    "    \n",
    "    This class models any distribution over wireless\n",
    "    parameters, conditional on arrivals. I.e. the\n",
    "    number of packets and their arrival times.\n",
    "    \"\"\"\n",
    "    \n",
    "    @classmethod\n",
    "    def sample(self):\n",
    "        pass    "
   ]
  },
  {
   "cell_type": "code",
   "execution_count": null,
   "id": "d202d0ea",
   "metadata": {},
   "outputs": [],
   "source": [
    "class Independent(WirelessDistribution):\n",
    "    \"\"\"\n",
    "    A distribution over LoRa Tx parameters in which\n",
    "    each type of parameter are mutuall independent.\n",
    "    \n",
    "    Attributes\n",
    "    ----------\n",
    "    payloadDist\n",
    "        A distribution over payloads.\n",
    "    channelDist\n",
    "        A distribution over channels.\n",
    "    spreadingDidst\n",
    "        A distribution over spreading factors.\n",
    "    powerDist\n",
    "        A distribution over power.\n",
    "    \"\"\"\n",
    "    \n",
    "    \n",
    "    "
   ]
  },
  {
   "cell_type": "code",
   "execution_count": null,
   "id": "237b59e2",
   "metadata": {},
   "outputs": [],
   "source": []
  },
  {
   "cell_type": "code",
   "execution_count": null,
   "id": "562bc262",
   "metadata": {},
   "outputs": [],
   "source": [
    "class LoRaProcess():\n",
    "    \"\"\"\n",
    "    A traffic-generating process.\n",
    "    \n",
    "    Attributes\n",
    "    ----------\n",
    "    network : LoRaWAN\n",
    "        A LoRaWAN specifying wireless parameters of traffic.\n",
    "    arrivals : ArrivalProcess\n",
    "        Arrival process of wireless traffic.\n",
    "    paramDist\n",
    "        A distribution over network parameters.\n",
    "        \n",
    "    Notes\n",
    "    -----\n",
    "    This is a data-generating process. The main purpose of the class\n",
    "    is to collect all relevant components in one place.\n",
    "    \n",
    "    A general `paramDist` is prefered over a distribution over individual\n",
    "    wireless parameters, as the more general distribution permits\n",
    "    arbitrary joint distrtibutions over groups of parameters. E.g. when\n",
    "    power and SF are correlated.\n",
    "    \"\"\"\n",
    "    \n",
    "    def __init__(self):\n",
    "        \"\"\"\n",
    "        Instantiate LoRaProcess.\n",
    "        \"\"\"\n",
    "        "
   ]
  },
  {
   "cell_type": "code",
   "execution_count": null,
   "id": "124cf2e3",
   "metadata": {},
   "outputs": [],
   "source": [
    "def "
   ]
  }
 ],
 "metadata": {
  "kernelspec": {
   "display_name": "Python (lora)",
   "language": "python",
   "name": "lora"
  },
  "language_info": {
   "codemirror_mode": {
    "name": "ipython",
    "version": 3
   },
   "file_extension": ".py",
   "mimetype": "text/x-python",
   "name": "python",
   "nbconvert_exporter": "python",
   "pygments_lexer": "ipython3",
   "version": "3.10.4"
  },
  "latex_envs": {
   "LaTeX_envs_menu_present": true,
   "autoclose": true,
   "autocomplete": true,
   "bibliofile": "biblio.bib",
   "cite_by": "apalike",
   "current_citInitial": 1,
   "eqLabelWithNumbers": true,
   "eqNumInitial": 1,
   "hotkeys": {
    "equation": "Ctrl-E",
    "itemize": "Ctrl-I"
   },
   "labels_anchors": false,
   "latex_user_defs": false,
   "report_style_numbering": false,
   "user_envs_cfg": false
  }
 },
 "nbformat": 4,
 "nbformat_minor": 5
}
