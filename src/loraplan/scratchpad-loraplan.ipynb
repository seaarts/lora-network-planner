{
 "cells": [
  {
   "cell_type": "code",
   "execution_count": 12,
   "id": "90b835e7-efb9-4e12-a9d0-c0d4788baff7",
   "metadata": {},
   "outputs": [],
   "source": [
    "import numpy as np\n",
    "from abc import ABC, abstractmethod"
   ]
  },
  {
   "cell_type": "code",
   "execution_count": 13,
   "id": "cf0f22f4-fd16-4856-b464-941bff591e18",
   "metadata": {},
   "outputs": [
    {
     "name": "stdout",
     "output_type": "stream",
     "text": [
      "The autoreload extension is already loaded. To reload it, use:\n",
      "  %reload_ext autoreload\n"
     ]
    }
   ],
   "source": [
    "%load_ext autoreload\n",
    "%autoreload 2"
   ]
  },
  {
   "cell_type": "code",
   "execution_count": 26,
   "id": "14ae14af-7d58-47e4-912f-1e2c43ca6e57",
   "metadata": {},
   "outputs": [],
   "source": [
    "import simulation as simu\n",
    "import interference as fere"
   ]
  },
  {
   "cell_type": "code",
   "execution_count": 27,
   "id": "50f908c8-89b3-4e1a-ab44-db8eef31ae47",
   "metadata": {},
   "outputs": [],
   "source": [
    "# get RNG\n",
    "rng  = np.random.default_rng()"
   ]
  },
  {
   "cell_type": "markdown",
   "id": "ca0ac921",
   "metadata": {},
   "source": [
    "# Time windowns and arrival processes\n",
    "\n",
    "Define a `TimeWindow` over which to sample, and choose an `ArrivalProcess` process over it."
   ]
  },
  {
   "cell_type": "code",
   "execution_count": 28,
   "id": "34e2dcc8-e71c-4944-9c06-15a29b6e332d",
   "metadata": {},
   "outputs": [
    {
     "name": "stdout",
     "output_type": "stream",
     "text": [
      "HomogeneousPoissonArrivals(TimeWindow(0, 5, buffer=2), rate=1.3)\n"
     ]
    }
   ],
   "source": [
    "# make a time window\n",
    "window = simu.TimeWindow(0, 5, buffer=2)\n",
    "\n",
    "# specify arrival process\n",
    "arrivals = simu.PoissonArrivals(window, rate=1.3)\n",
    "\n",
    "print(arrivals)"
   ]
  },
  {
   "cell_type": "code",
   "execution_count": 40,
   "id": "12b819d6-853f-4920-93ea-f86b1c7a3c04",
   "metadata": {},
   "outputs": [
    {
     "name": "stdout",
     "output_type": "stream",
     "text": [
      "[array([ 2.94678576, -1.08423153, -1.78297572,  6.16520756,  3.90314659,\n",
      "        3.73856414, -1.18942122,  6.03022472,  4.56774225,  0.50053417,\n",
      "        4.50562599,  6.35223129])]\n"
     ]
    }
   ],
   "source": [
    "# sample arrival times\n",
    "arrs = arrivals.sample(seed=rng)\n",
    "\n",
    "print(arrs)"
   ]
  },
  {
   "cell_type": "code",
   "execution_count": null,
   "id": "d227d3e6-d064-4855-b137-21672691b9f4",
   "metadata": {},
   "outputs": [],
   "source": []
  },
  {
   "cell_type": "markdown",
   "id": "6c4b9543",
   "metadata": {},
   "source": [
    "# Declaring WirelessTraffic"
   ]
  },
  {
   "cell_type": "code",
   "execution_count": 33,
   "id": "db6962ed-f1f6-4b04-9843-dc600ed2f33d",
   "metadata": {},
   "outputs": [],
   "source": [
    "# sample Traffic parameters\n",
    "nPackets = len(start[0])\n",
    "airtime = rng.uniform(0.1, 0.2, size=nPackets)\n",
    "channel = rng.choice(8, size=nPackets)\n",
    "sf = 7 + rng.choice(4, size=nPackets)\n",
    "power = rng.normal(loc=-90, scale=10, size=nPackets)\n",
    "\n",
    "# make traffic object\n",
    "traffic = fere.Traffic(nPackets, start[0], airtime,\n",
    "                      channel, sf, power)"
   ]
  },
  {
   "cell_type": "markdown",
   "id": "ccba3c2c-bac6-4b83-a30f-c34ed70e5f5e",
   "metadata": {},
   "source": [
    "# A TrafficGenerator"
   ]
  },
  {
   "cell_type": "code",
   "execution_count": null,
   "id": "4a48de1f-03ca-4ef1-9dcb-30302db72293",
   "metadata": {},
   "outputs": [],
   "source": []
  },
  {
   "cell_type": "code",
   "execution_count": null,
   "id": "7c7a7bf4-7eb2-4812-b6bf-95cdbcc134ba",
   "metadata": {},
   "outputs": [],
   "source": []
  },
  {
   "cell_type": "code",
   "execution_count": null,
   "id": "8f2aa5ed-8b88-420a-b04b-8527ba83e5e8",
   "metadata": {},
   "outputs": [],
   "source": []
  },
  {
   "cell_type": "code",
   "execution_count": null,
   "id": "96ed82d4-0f24-4f09-a11a-5f40b7b556cc",
   "metadata": {},
   "outputs": [],
   "source": []
  },
  {
   "cell_type": "markdown",
   "id": "615a1820",
   "metadata": {},
   "source": [
    "## Network - A Traffic Generating Process\n",
    "\n",
    "We keep the `LoRaWAN` class.\n",
    "\n",
    "Distributionally-equipped traffic-generating networks are children!\n",
    "- Distribution over channels.\n",
    "- Distribution over SFs.\n",
    "- Distribution over payloads(s)"
   ]
  },
  {
   "cell_type": "code",
   "execution_count": 18,
   "id": "bfc27d55",
   "metadata": {},
   "outputs": [],
   "source": [
    "class LoRaParameters():\n",
    "    \"\"\"\n",
    "    An object class for LoRa Network Parameters.\n",
    "\n",
    "    Attributes\n",
    "    ---------\n",
    "    nChannels : int\n",
    "        Number of channels permitted.\n",
    "\n",
    "    freq : float\n",
    "        (Central) frequency used by network.\n",
    "\n",
    "    bandwidth : float\n",
    "        Bandwidth of uplink channel.\n",
    "\n",
    "    spreadingFactors : list of int\n",
    "        List of spreading factors allowed on network.\n",
    "\n",
    "    overhead : int\n",
    "        Number of bytes of overhead in payload.\n",
    "\n",
    "    dwellTime : float\n",
    "        Maximum permitted dwell time in ms. Use `None` if not restricted.\n",
    "\n",
    "    dutyCycle : float\n",
    "        Maximum duty cycle permitted. Use `None` if not resttrictred.\n",
    "        \n",
    "\n",
    "    Notes\n",
    "    -----\n",
    "    \n",
    "    FUTURE - would be nice to read data from e.g.\n",
    "        https://github.com/TheThingsNetwork/lorawan-frequency-plans\n",
    "\n",
    "    For now parameters are specified manually.\n",
    "\n",
    "    Defaults are for North America ISM band.\n",
    "    \"\"\"\n",
    "\n",
    "    def __init__(self, nChannels=1, freq=915, bandwidth=125,\n",
    "                 spreading=None, overhead=13, maxPow=30,\n",
    "                 dwellTime=400, dutyCycle=None):\n",
    "        \"\"\"\n",
    "        Instantiate LoRaParemeters instance.\n",
    "\n",
    "        Parameters\n",
    "        ----------\n",
    "        nChannels : int\n",
    "            Number of channels permitted.\n",
    "\n",
    "        freq : float\n",
    "            (Central) frequency used by network.\n",
    "\n",
    "        bandwidth : float\n",
    "            Bandwidth of uplink channel.\n",
    "\n",
    "        spreadingFactors : list of int\n",
    "            List of spreading factors allowed on network.\n",
    "\n",
    "        overhead : int\n",
    "            Number of bytes of overhead in payload.\n",
    "        \n",
    "        maxPow : float\n",
    "            Maximum transmitted power (dBm).\n",
    "\n",
    "        dwellTime : float\n",
    "            Maximum permitted dwell time in ms. Use `None` if not restricted.\n",
    "\n",
    "        dutyCycle : float\n",
    "            Maximum duty cycle permitted. Use `None` if not resttrictred.\n",
    "        \"\"\"\n",
    "        \n",
    "        if spreading is None:\n",
    "            spreading = [7, 8, 9, 10]\n",
    "\n",
    "        self.nChannels = nChannels\n",
    "        self.freq = freq\n",
    "        self.bw = bandwidth\n",
    "        self.sf = spreading\n",
    "        self.overhead = overhead\n",
    "        self.maxPow = maxPow\n",
    "        self.dwellTime = dwellTime\n",
    "        self.dutyCycle = dutyCycle\n",
    "\n",
    "    def __repr__(self):\n",
    "        return \"LoRaParameters(%r)\" % self.__dict__\n",
    "\n",
    "    def __str__(self):\n",
    "        out = \"A LoRa Parameters object with params:\"\n",
    "        for k, v in self.__dict__.items():\n",
    "            out += f\"\\n\\t {k}: {v}\"\n",
    "        return out"
   ]
  },
  {
   "cell_type": "code",
   "execution_count": 19,
   "id": "bdc711cd",
   "metadata": {},
   "outputs": [
    {
     "name": "stdout",
     "output_type": "stream",
     "text": [
      "A LoRa Parameters object with params:\n",
      "\t nChannels: 4\n",
      "\t freq: 915\n",
      "\t bw: 125\n",
      "\t sf: [7, 8, 9, 10]\n",
      "\t overhead: 13\n",
      "\t maxPow: 30\n",
      "\t dwellTime: 400\n",
      "\t dutyCycle: None\n"
     ]
    }
   ],
   "source": [
    "# make LoRaParameters instance\n",
    "myLoRaWAN = LoRaParameters(nChannels=4)\n",
    "print(myLoRaWAN)"
   ]
  },
  {
   "cell_type": "code",
   "execution_count": 12,
   "id": "f9f2337a",
   "metadata": {},
   "outputs": [
    {
     "data": {
      "text/plain": [
       "LoRaParameters({'nChannels': 1, 'freq': 915, 'bw': 125, 'sf': [7, 8, 9, 10], 'overhead': 13, 'dwellTime': 400, 'dutyCycle': None})"
      ]
     },
     "execution_count": 12,
     "metadata": {},
     "output_type": "execute_result"
    }
   ],
   "source": [
    "class LoRaDistribution(LoRaParameters):\n",
    "    \"\"\"\n",
    "    Class of distributions over LoRaWAN parameters.\n",
    "    May be conditional on arrival times.\n",
    "    \"\"\"\n",
    "    \n",
    "    \n"
   ]
  },
  {
   "cell_type": "code",
   "execution_count": null,
   "id": "d1249437",
   "metadata": {},
   "outputs": [],
   "source": [
    "class LoRaDistribution()"
   ]
  },
  {
   "cell_type": "code",
   "execution_count": 45,
   "id": "08aaecaf",
   "metadata": {},
   "outputs": [],
   "source": [
    "class LoRaWANProcess(LoRaWAN):\n",
    "    \"\"\"\n",
    "    A LoRaWAN with poisson packet arrivals.\n",
    "    \n",
    "    Possibly allow start, stop, buffer, rate to be set separately.\n",
    "        Then generate an Arrival process internally.\n",
    "    \"\"\"\n",
    "    \n",
    "    def __init__(self, arrivalProcess, paramDistribution):\n",
    "        \"\"\"\n",
    "        Instantiate a LoRaWAN process.\n",
    "        \n",
    "        Parameters\n",
    "        ----------\n",
    "        arrivalProcess\n",
    "             ArrivalProcess-object for sampling packet arrivals.\n",
    "             This also specifies an observation window.\n",
    "             \n",
    "        paramDistribution\n",
    "             A distribution over LoRaWAN wireless parameters.\n",
    "             The support of this distribution should be consistent\n",
    "             with wireless parameters specified by LoRaWAN instance.\n",
    "             May be conditional on the arrivalProcess.\n",
    "        \n",
    "        \"\"\"\n",
    "        LoRaWAN.__init__(self)\n",
    "        \n",
    "        self.arrivals = arrivalProcess\n",
    "        self.distribution = paramDistribution\n",
    "        \n",
    "    def __repr__(self):\n",
    "        return \"LoRaWANProcess(%r)\" % self.__dict__\n",
    "    \n",
    "    "
   ]
  },
  {
   "cell_type": "code",
   "execution_count": 46,
   "id": "3229578c",
   "metadata": {},
   "outputs": [],
   "source": [
    "wanp = LoRaWANProcess(arrivals, 1)"
   ]
  },
  {
   "cell_type": "code",
   "execution_count": 47,
   "id": "7ac080f7",
   "metadata": {},
   "outputs": [
    {
     "data": {
      "text/plain": [
       "LoRaWANProcess({'nChannels': 1, 'freq': 915, 'bw': 125, 'sf': [7, 8, 9, 10], 'overhead': 13, 'dwellTime': 400, 'dutyCycle': None, 'arrivals': HomogeneousPoissonProcess(TimeWindow(0, 5, buffer=2), rate=1.3), 'distribution': 1})"
      ]
     },
     "execution_count": 47,
     "metadata": {},
     "output_type": "execute_result"
    }
   ],
   "source": [
    "wanp"
   ]
  },
  {
   "cell_type": "code",
   "execution_count": null,
   "id": "c64fa9ff",
   "metadata": {},
   "outputs": [],
   "source": []
  },
  {
   "cell_type": "markdown",
   "id": "15fcf249",
   "metadata": {},
   "source": [
    "# A Network class"
   ]
  },
  {
   "cell_type": "code",
   "execution_count": null,
   "id": "36569174",
   "metadata": {},
   "outputs": [],
   "source": [
    "WAN = mod.LoRaWAN()\n",
    "\n",
    "print(WAN)"
   ]
  },
  {
   "cell_type": "code",
   "execution_count": null,
   "id": "966670fc",
   "metadata": {},
   "outputs": [],
   "source": [
    "WAN"
   ]
  },
  {
   "cell_type": "code",
   "execution_count": null,
   "id": "8b9fd53a",
   "metadata": {},
   "outputs": [],
   "source": []
  },
  {
   "cell_type": "code",
   "execution_count": null,
   "id": "4edfdd18",
   "metadata": {},
   "outputs": [],
   "source": []
  },
  {
   "cell_type": "code",
   "execution_count": null,
   "id": "7ef6d51a",
   "metadata": {},
   "outputs": [],
   "source": []
  },
  {
   "cell_type": "code",
   "execution_count": null,
   "id": "044744e4",
   "metadata": {},
   "outputs": [],
   "source": []
  },
  {
   "cell_type": "code",
   "execution_count": null,
   "id": "8df226e3",
   "metadata": {},
   "outputs": [],
   "source": []
  },
  {
   "cell_type": "code",
   "execution_count": null,
   "id": "1ce3c131",
   "metadata": {},
   "outputs": [],
   "source": []
  },
  {
   "cell_type": "markdown",
   "id": "154c507b",
   "metadata": {},
   "source": [
    "## Parameter Distribution"
   ]
  },
  {
   "cell_type": "code",
   "execution_count": null,
   "id": "9bb9b1c8",
   "metadata": {},
   "outputs": [],
   "source": [
    "class distribution(ABC):\n",
    "    \"\"\"\n",
    "    Class for custom made probability distributions.\n",
    "    \n",
    "    Notes\n",
    "    -----\n",
    "    \n",
    "    The `__call__` function is used for sampling.\n",
    "    The parameters and defaults should be explicit.\n",
    "    Each distribution uses a `numpy.random.generator`,\n",
    "    and should accept and optional `seed` to which\n",
    "    a `seed` string or a `numpy.random.generator` can be\n",
    "    passed.\n",
    "    \n",
    "    \"\"\"\n",
    "    \n",
    "    @classmethod\n",
    "    def __call__(self):\n",
    "        pass"
   ]
  },
  {
   "cell_type": "code",
   "execution_count": null,
   "id": "2e71cef5",
   "metadata": {},
   "outputs": [],
   "source": [
    "class Normal(distribution):\n",
    "    \"\"\"A normal distribution.\n",
    "    \"\"\"\n",
    "    \n",
    "    def __init__(self, loc=0, scale=1):\n",
    "        \"\"\"Instantiate normal distribution.\n",
    "        \"\"\"\n",
    "        self.loc = loc\n",
    "        self.scale = scale\n",
    "        \n",
    "    def __repr__(self):\n",
    "        return \"Normal(%s)\" % str(self.__dict__) \n",
    "        \n",
    "        \n",
    "    def __call__(self, loc=None, scale=None, size=None, seed=None):\n",
    "        \"\"\"\n",
    "        Generate a sample of normals.\n",
    "        \"\"\" \n",
    "        if loc is None:\n",
    "            loc = self.loc\n",
    "        if scale is None:\n",
    "            scale = self.scale\n",
    "            \n",
    "        rng = np.random.default_rng(seed)\n",
    "        \n",
    "        return rng.normal(loc=loc, scale=scale, size=size)"
   ]
  },
  {
   "cell_type": "code",
   "execution_count": null,
   "id": "2b5231ba",
   "metadata": {},
   "outputs": [],
   "source": [
    "norm = Normal()"
   ]
  },
  {
   "cell_type": "code",
   "execution_count": null,
   "id": "79fffc92",
   "metadata": {},
   "outputs": [],
   "source": [
    "norm(loc=10, scale=5)"
   ]
  },
  {
   "cell_type": "code",
   "execution_count": null,
   "id": "562cb23a",
   "metadata": {},
   "outputs": [],
   "source": [
    "class WirelessDistribution(ABC):\n",
    "    \"\"\"\n",
    "    A distribution over wireless parameters.\n",
    "    \n",
    "    Attributes\n",
    "    ----------\n",
    "    \n",
    "    Notes\n",
    "    -----\n",
    "    \n",
    "    This class models any distribution over wireless\n",
    "    parameters, conditional on arrivals. I.e. the\n",
    "    number of packets and their arrival times.\n",
    "    \"\"\"\n",
    "    \n",
    "    @classmethod\n",
    "    def sample(self):\n",
    "        pass    "
   ]
  },
  {
   "cell_type": "code",
   "execution_count": null,
   "id": "d202d0ea",
   "metadata": {},
   "outputs": [],
   "source": [
    "class Independent(WirelessDistribution):\n",
    "    \"\"\"\n",
    "    A distribution over LoRa Tx parameters in which\n",
    "    each type of parameter are mutuall independent.\n",
    "    \n",
    "    Attributes\n",
    "    ----------\n",
    "    payloadDist\n",
    "        A distribution over payloads.\n",
    "    channelDist\n",
    "        A distribution over channels.\n",
    "    spreadingDidst\n",
    "        A distribution over spreading factors.\n",
    "    powerDist\n",
    "        A distribution over power.\n",
    "    \"\"\"\n",
    "    \n",
    "    \n",
    "    "
   ]
  },
  {
   "cell_type": "code",
   "execution_count": null,
   "id": "237b59e2",
   "metadata": {},
   "outputs": [],
   "source": []
  },
  {
   "cell_type": "code",
   "execution_count": null,
   "id": "562bc262",
   "metadata": {},
   "outputs": [],
   "source": [
    "class LoRaProcess():\n",
    "    \"\"\"\n",
    "    A traffic-generating process.\n",
    "    \n",
    "    Attributes\n",
    "    ----------\n",
    "    network : LoRaWAN\n",
    "        A LoRaWAN specifying wireless parameters of traffic.\n",
    "    arrivals : ArrivalProcess\n",
    "        Arrival process of wireless traffic.\n",
    "    paramDist\n",
    "        A distribution over network parameters.\n",
    "        \n",
    "    Notes\n",
    "    -----\n",
    "    This is a data-generating process. The main purpose of the class\n",
    "    is to collect all relevant components in one place.\n",
    "    \n",
    "    A general `paramDist` is prefered over a distribution over individual\n",
    "    wireless parameters, as the more general distribution permits\n",
    "    arbitrary joint distrtibutions over groups of parameters. E.g. when\n",
    "    power and SF are correlated.\n",
    "    \"\"\"\n",
    "    \n",
    "    def __init__(self):\n",
    "        \"\"\"\n",
    "        Instantiate LoRaProcess.\n",
    "        \"\"\"\n",
    "        "
   ]
  },
  {
   "cell_type": "code",
   "execution_count": null,
   "id": "124cf2e3",
   "metadata": {},
   "outputs": [],
   "source": [
    "def "
   ]
  }
 ],
 "metadata": {
  "kernelspec": {
   "display_name": "Python (lora)",
   "language": "python",
   "name": "lora"
  },
  "language_info": {
   "codemirror_mode": {
    "name": "ipython",
    "version": 3
   },
   "file_extension": ".py",
   "mimetype": "text/x-python",
   "name": "python",
   "nbconvert_exporter": "python",
   "pygments_lexer": "ipython3",
   "version": "3.10.4"
  },
  "latex_envs": {
   "LaTeX_envs_menu_present": true,
   "autoclose": true,
   "autocomplete": true,
   "bibliofile": "biblio.bib",
   "cite_by": "apalike",
   "current_citInitial": 1,
   "eqLabelWithNumbers": true,
   "eqNumInitial": 1,
   "hotkeys": {
    "equation": "Ctrl-E",
    "itemize": "Ctrl-I"
   },
   "labels_anchors": false,
   "latex_user_defs": false,
   "report_style_numbering": false,
   "user_envs_cfg": false
  }
 },
 "nbformat": 4,
 "nbformat_minor": 5
}
